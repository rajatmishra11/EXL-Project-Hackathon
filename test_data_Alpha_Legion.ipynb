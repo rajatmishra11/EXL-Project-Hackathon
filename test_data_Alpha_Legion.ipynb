{
 "cells": [
  {
   "cell_type": "markdown",
   "id": "73bc24b8",
   "metadata": {},
   "source": [
    "## Load The File ->(Round1a_Submission_Template)"
   ]
  },
  {
   "cell_type": "code",
   "execution_count": 1,
   "id": "b1f63291",
   "metadata": {},
   "outputs": [],
   "source": [
    "import pandas as pd"
   ]
  },
  {
   "cell_type": "code",
   "execution_count": 13,
   "id": "46e6a54a",
   "metadata": {},
   "outputs": [],
   "source": [
    "df=pd.read_csv('submit.csv')"
   ]
  },
  {
   "cell_type": "code",
   "execution_count": 14,
   "id": "964d0609",
   "metadata": {},
   "outputs": [
    {
     "data": {
      "text/html": [
       "<div>\n",
       "<style scoped>\n",
       "    .dataframe tbody tr th:only-of-type {\n",
       "        vertical-align: middle;\n",
       "    }\n",
       "\n",
       "    .dataframe tbody tr th {\n",
       "        vertical-align: top;\n",
       "    }\n",
       "\n",
       "    .dataframe thead th {\n",
       "        text-align: right;\n",
       "    }\n",
       "</style>\n",
       "<table border=\"1\" class=\"dataframe\">\n",
       "  <thead>\n",
       "    <tr style=\"text-align: right;\">\n",
       "      <th></th>\n",
       "      <th>ID</th>\n",
       "      <th>City</th>\n",
       "      <th>Time Periods</th>\n",
       "      <th>PM2.5_Prediction</th>\n",
       "    </tr>\n",
       "  </thead>\n",
       "  <tbody>\n",
       "    <tr>\n",
       "      <th>0</th>\n",
       "      <td>1</td>\n",
       "      <td>Delhi</td>\n",
       "      <td>01-01-2023 0:00</td>\n",
       "      <td>NaN</td>\n",
       "    </tr>\n",
       "    <tr>\n",
       "      <th>1</th>\n",
       "      <td>2</td>\n",
       "      <td>Delhi</td>\n",
       "      <td>01-01-2023 4:00</td>\n",
       "      <td>NaN</td>\n",
       "    </tr>\n",
       "    <tr>\n",
       "      <th>2</th>\n",
       "      <td>3</td>\n",
       "      <td>Delhi</td>\n",
       "      <td>01-01-2023 8:00</td>\n",
       "      <td>NaN</td>\n",
       "    </tr>\n",
       "    <tr>\n",
       "      <th>3</th>\n",
       "      <td>4</td>\n",
       "      <td>Delhi</td>\n",
       "      <td>01-01-2023 12:00</td>\n",
       "      <td>NaN</td>\n",
       "    </tr>\n",
       "    <tr>\n",
       "      <th>4</th>\n",
       "      <td>5</td>\n",
       "      <td>Delhi</td>\n",
       "      <td>01-01-2023 16:00</td>\n",
       "      <td>NaN</td>\n",
       "    </tr>\n",
       "  </tbody>\n",
       "</table>\n",
       "</div>"
      ],
      "text/plain": [
       "   ID   City      Time Periods  PM2.5_Prediction\n",
       "0   1  Delhi   01-01-2023 0:00               NaN\n",
       "1   2  Delhi   01-01-2023 4:00               NaN\n",
       "2   3  Delhi   01-01-2023 8:00               NaN\n",
       "3   4  Delhi  01-01-2023 12:00               NaN\n",
       "4   5  Delhi  01-01-2023 16:00               NaN"
      ]
     },
     "execution_count": 14,
     "metadata": {},
     "output_type": "execute_result"
    }
   ],
   "source": [
    "df.head()"
   ]
  },
  {
   "cell_type": "code",
   "execution_count": 17,
   "id": "5bba8bb2",
   "metadata": {},
   "outputs": [],
   "source": [
    "df1=df.drop([\"PM2.5_Prediction\",\"ID\"],axis=1)"
   ]
  },
  {
   "cell_type": "code",
   "execution_count": 18,
   "id": "c8f4f718",
   "metadata": {},
   "outputs": [
    {
     "data": {
      "text/html": [
       "<div>\n",
       "<style scoped>\n",
       "    .dataframe tbody tr th:only-of-type {\n",
       "        vertical-align: middle;\n",
       "    }\n",
       "\n",
       "    .dataframe tbody tr th {\n",
       "        vertical-align: top;\n",
       "    }\n",
       "\n",
       "    .dataframe thead th {\n",
       "        text-align: right;\n",
       "    }\n",
       "</style>\n",
       "<table border=\"1\" class=\"dataframe\">\n",
       "  <thead>\n",
       "    <tr style=\"text-align: right;\">\n",
       "      <th></th>\n",
       "      <th>City</th>\n",
       "      <th>Time Periods</th>\n",
       "    </tr>\n",
       "  </thead>\n",
       "  <tbody>\n",
       "    <tr>\n",
       "      <th>0</th>\n",
       "      <td>Delhi</td>\n",
       "      <td>01-01-2023 0:00</td>\n",
       "    </tr>\n",
       "    <tr>\n",
       "      <th>1</th>\n",
       "      <td>Delhi</td>\n",
       "      <td>01-01-2023 4:00</td>\n",
       "    </tr>\n",
       "    <tr>\n",
       "      <th>2</th>\n",
       "      <td>Delhi</td>\n",
       "      <td>01-01-2023 8:00</td>\n",
       "    </tr>\n",
       "    <tr>\n",
       "      <th>3</th>\n",
       "      <td>Delhi</td>\n",
       "      <td>01-01-2023 12:00</td>\n",
       "    </tr>\n",
       "    <tr>\n",
       "      <th>4</th>\n",
       "      <td>Delhi</td>\n",
       "      <td>01-01-2023 16:00</td>\n",
       "    </tr>\n",
       "  </tbody>\n",
       "</table>\n",
       "</div>"
      ],
      "text/plain": [
       "    City      Time Periods\n",
       "0  Delhi   01-01-2023 0:00\n",
       "1  Delhi   01-01-2023 4:00\n",
       "2  Delhi   01-01-2023 8:00\n",
       "3  Delhi  01-01-2023 12:00\n",
       "4  Delhi  01-01-2023 16:00"
      ]
     },
     "execution_count": 18,
     "metadata": {},
     "output_type": "execute_result"
    }
   ],
   "source": [
    "df1.head()"
   ]
  },
  {
   "cell_type": "code",
   "execution_count": 19,
   "id": "ab0b9de4",
   "metadata": {},
   "outputs": [],
   "source": [
    "def time_period_in_int(k):\n",
    "    new_list=[]\n",
    "    for i in k:\n",
    "        i=i.replace(\"-\",\"\")\n",
    "        i=i.replace(\":\",\"\")\n",
    "        i=int(i.replace(\" \",\"\"))\n",
    "        new_list.append(i)\n",
    "    return new_list"
   ]
  },
  {
   "cell_type": "code",
   "execution_count": 21,
   "id": "c148a74b",
   "metadata": {},
   "outputs": [],
   "source": [
    "df1[\"Time Periods\"]=time_period_in_int(df1[\"Time Periods\"])"
   ]
  },
  {
   "cell_type": "code",
   "execution_count": 22,
   "id": "e033a8d0",
   "metadata": {},
   "outputs": [
    {
     "data": {
      "text/html": [
       "<div>\n",
       "<style scoped>\n",
       "    .dataframe tbody tr th:only-of-type {\n",
       "        vertical-align: middle;\n",
       "    }\n",
       "\n",
       "    .dataframe tbody tr th {\n",
       "        vertical-align: top;\n",
       "    }\n",
       "\n",
       "    .dataframe thead th {\n",
       "        text-align: right;\n",
       "    }\n",
       "</style>\n",
       "<table border=\"1\" class=\"dataframe\">\n",
       "  <thead>\n",
       "    <tr style=\"text-align: right;\">\n",
       "      <th></th>\n",
       "      <th>City</th>\n",
       "      <th>Time Periods</th>\n",
       "    </tr>\n",
       "  </thead>\n",
       "  <tbody>\n",
       "    <tr>\n",
       "      <th>0</th>\n",
       "      <td>Delhi</td>\n",
       "      <td>1012023000</td>\n",
       "    </tr>\n",
       "    <tr>\n",
       "      <th>1</th>\n",
       "      <td>Delhi</td>\n",
       "      <td>1012023400</td>\n",
       "    </tr>\n",
       "    <tr>\n",
       "      <th>2</th>\n",
       "      <td>Delhi</td>\n",
       "      <td>1012023800</td>\n",
       "    </tr>\n",
       "    <tr>\n",
       "      <th>3</th>\n",
       "      <td>Delhi</td>\n",
       "      <td>10120231200</td>\n",
       "    </tr>\n",
       "    <tr>\n",
       "      <th>4</th>\n",
       "      <td>Delhi</td>\n",
       "      <td>10120231600</td>\n",
       "    </tr>\n",
       "  </tbody>\n",
       "</table>\n",
       "</div>"
      ],
      "text/plain": [
       "    City  Time Periods\n",
       "0  Delhi    1012023000\n",
       "1  Delhi    1012023400\n",
       "2  Delhi    1012023800\n",
       "3  Delhi   10120231200\n",
       "4  Delhi   10120231600"
      ]
     },
     "execution_count": 22,
     "metadata": {},
     "output_type": "execute_result"
    }
   ],
   "source": [
    "df1.head()"
   ]
  },
  {
   "cell_type": "code",
   "execution_count": 23,
   "id": "303ea8e5",
   "metadata": {},
   "outputs": [],
   "source": [
    "dummies_city = pd.get_dummies(df1.City)"
   ]
  },
  {
   "cell_type": "code",
   "execution_count": 24,
   "id": "bf03a4f1",
   "metadata": {},
   "outputs": [],
   "source": [
    "df2=df1.copy()"
   ]
  },
  {
   "cell_type": "code",
   "execution_count": 25,
   "id": "39d713b2",
   "metadata": {},
   "outputs": [],
   "source": [
    "df2 = pd.concat([df2, dummies_city], axis='columns')"
   ]
  },
  {
   "cell_type": "code",
   "execution_count": 26,
   "id": "15d0057f",
   "metadata": {},
   "outputs": [],
   "source": [
    "df2.drop([ 'City'], axis='columns',inplace=True)"
   ]
  },
  {
   "cell_type": "code",
   "execution_count": 27,
   "id": "6bd64641",
   "metadata": {},
   "outputs": [
    {
     "data": {
      "text/html": [
       "<div>\n",
       "<style scoped>\n",
       "    .dataframe tbody tr th:only-of-type {\n",
       "        vertical-align: middle;\n",
       "    }\n",
       "\n",
       "    .dataframe tbody tr th {\n",
       "        vertical-align: top;\n",
       "    }\n",
       "\n",
       "    .dataframe thead th {\n",
       "        text-align: right;\n",
       "    }\n",
       "</style>\n",
       "<table border=\"1\" class=\"dataframe\">\n",
       "  <thead>\n",
       "    <tr style=\"text-align: right;\">\n",
       "      <th></th>\n",
       "      <th>Time Periods</th>\n",
       "      <th>Agartala</th>\n",
       "      <th>Agra</th>\n",
       "      <th>Ahmedabad</th>\n",
       "      <th>Bengaluru</th>\n",
       "      <th>Bhilai</th>\n",
       "      <th>Bhopal</th>\n",
       "      <th>Chandigarh</th>\n",
       "      <th>Chennai</th>\n",
       "      <th>Delhi</th>\n",
       "      <th>...</th>\n",
       "      <th>Moradabad</th>\n",
       "      <th>Mumbai</th>\n",
       "      <th>Muzaffarpur</th>\n",
       "      <th>Noida</th>\n",
       "      <th>Patna</th>\n",
       "      <th>Prayagraj</th>\n",
       "      <th>Raipur</th>\n",
       "      <th>Srinagar</th>\n",
       "      <th>Thiruvananthapuram</th>\n",
       "      <th>Varanasi</th>\n",
       "    </tr>\n",
       "  </thead>\n",
       "  <tbody>\n",
       "    <tr>\n",
       "      <th>0</th>\n",
       "      <td>1012023000</td>\n",
       "      <td>0</td>\n",
       "      <td>0</td>\n",
       "      <td>0</td>\n",
       "      <td>0</td>\n",
       "      <td>0</td>\n",
       "      <td>0</td>\n",
       "      <td>0</td>\n",
       "      <td>0</td>\n",
       "      <td>1</td>\n",
       "      <td>...</td>\n",
       "      <td>0</td>\n",
       "      <td>0</td>\n",
       "      <td>0</td>\n",
       "      <td>0</td>\n",
       "      <td>0</td>\n",
       "      <td>0</td>\n",
       "      <td>0</td>\n",
       "      <td>0</td>\n",
       "      <td>0</td>\n",
       "      <td>0</td>\n",
       "    </tr>\n",
       "    <tr>\n",
       "      <th>1</th>\n",
       "      <td>1012023400</td>\n",
       "      <td>0</td>\n",
       "      <td>0</td>\n",
       "      <td>0</td>\n",
       "      <td>0</td>\n",
       "      <td>0</td>\n",
       "      <td>0</td>\n",
       "      <td>0</td>\n",
       "      <td>0</td>\n",
       "      <td>1</td>\n",
       "      <td>...</td>\n",
       "      <td>0</td>\n",
       "      <td>0</td>\n",
       "      <td>0</td>\n",
       "      <td>0</td>\n",
       "      <td>0</td>\n",
       "      <td>0</td>\n",
       "      <td>0</td>\n",
       "      <td>0</td>\n",
       "      <td>0</td>\n",
       "      <td>0</td>\n",
       "    </tr>\n",
       "    <tr>\n",
       "      <th>2</th>\n",
       "      <td>1012023800</td>\n",
       "      <td>0</td>\n",
       "      <td>0</td>\n",
       "      <td>0</td>\n",
       "      <td>0</td>\n",
       "      <td>0</td>\n",
       "      <td>0</td>\n",
       "      <td>0</td>\n",
       "      <td>0</td>\n",
       "      <td>1</td>\n",
       "      <td>...</td>\n",
       "      <td>0</td>\n",
       "      <td>0</td>\n",
       "      <td>0</td>\n",
       "      <td>0</td>\n",
       "      <td>0</td>\n",
       "      <td>0</td>\n",
       "      <td>0</td>\n",
       "      <td>0</td>\n",
       "      <td>0</td>\n",
       "      <td>0</td>\n",
       "    </tr>\n",
       "    <tr>\n",
       "      <th>3</th>\n",
       "      <td>10120231200</td>\n",
       "      <td>0</td>\n",
       "      <td>0</td>\n",
       "      <td>0</td>\n",
       "      <td>0</td>\n",
       "      <td>0</td>\n",
       "      <td>0</td>\n",
       "      <td>0</td>\n",
       "      <td>0</td>\n",
       "      <td>1</td>\n",
       "      <td>...</td>\n",
       "      <td>0</td>\n",
       "      <td>0</td>\n",
       "      <td>0</td>\n",
       "      <td>0</td>\n",
       "      <td>0</td>\n",
       "      <td>0</td>\n",
       "      <td>0</td>\n",
       "      <td>0</td>\n",
       "      <td>0</td>\n",
       "      <td>0</td>\n",
       "    </tr>\n",
       "    <tr>\n",
       "      <th>4</th>\n",
       "      <td>10120231600</td>\n",
       "      <td>0</td>\n",
       "      <td>0</td>\n",
       "      <td>0</td>\n",
       "      <td>0</td>\n",
       "      <td>0</td>\n",
       "      <td>0</td>\n",
       "      <td>0</td>\n",
       "      <td>0</td>\n",
       "      <td>1</td>\n",
       "      <td>...</td>\n",
       "      <td>0</td>\n",
       "      <td>0</td>\n",
       "      <td>0</td>\n",
       "      <td>0</td>\n",
       "      <td>0</td>\n",
       "      <td>0</td>\n",
       "      <td>0</td>\n",
       "      <td>0</td>\n",
       "      <td>0</td>\n",
       "      <td>0</td>\n",
       "    </tr>\n",
       "  </tbody>\n",
       "</table>\n",
       "<p>5 rows × 35 columns</p>\n",
       "</div>"
      ],
      "text/plain": [
       "   Time Periods  Agartala  Agra  Ahmedabad  Bengaluru  Bhilai  Bhopal  \\\n",
       "0    1012023000         0     0          0          0       0       0   \n",
       "1    1012023400         0     0          0          0       0       0   \n",
       "2    1012023800         0     0          0          0       0       0   \n",
       "3   10120231200         0     0          0          0       0       0   \n",
       "4   10120231600         0     0          0          0       0       0   \n",
       "\n",
       "   Chandigarh  Chennai  Delhi  ...  Moradabad  Mumbai  Muzaffarpur  Noida  \\\n",
       "0           0        0      1  ...          0       0            0      0   \n",
       "1           0        0      1  ...          0       0            0      0   \n",
       "2           0        0      1  ...          0       0            0      0   \n",
       "3           0        0      1  ...          0       0            0      0   \n",
       "4           0        0      1  ...          0       0            0      0   \n",
       "\n",
       "   Patna  Prayagraj  Raipur  Srinagar  Thiruvananthapuram  Varanasi  \n",
       "0      0          0       0         0                   0         0  \n",
       "1      0          0       0         0                   0         0  \n",
       "2      0          0       0         0                   0         0  \n",
       "3      0          0       0         0                   0         0  \n",
       "4      0          0       0         0                   0         0  \n",
       "\n",
       "[5 rows x 35 columns]"
      ]
     },
     "execution_count": 27,
     "metadata": {},
     "output_type": "execute_result"
    }
   ],
   "source": [
    "df2.head()"
   ]
  },
  {
   "cell_type": "code",
   "execution_count": 28,
   "id": "cc8e25d7",
   "metadata": {},
   "outputs": [
    {
     "data": {
      "text/plain": [
       "(612, 35)"
      ]
     },
     "execution_count": 28,
     "metadata": {},
     "output_type": "execute_result"
    }
   ],
   "source": [
    "df2.shape"
   ]
  },
  {
   "cell_type": "code",
   "execution_count": 29,
   "id": "4e74da24",
   "metadata": {},
   "outputs": [],
   "source": [
    "from sklearn.datasets import make_regression\n",
    "from sklearn.multioutput import MultiOutputRegressor\n",
    "from sklearn.ensemble import GradientBoostingRegressor"
   ]
  },
  {
   "cell_type": "code",
   "execution_count": 30,
   "id": "ec911618",
   "metadata": {},
   "outputs": [],
   "source": [
    "import pickle\n",
    "filename = 'multi_output_regression_model2.sav'\n",
    "loaded_model = pickle.load(open(filename, 'rb'))"
   ]
  },
  {
   "cell_type": "code",
   "execution_count": 31,
   "id": "b220fc1d",
   "metadata": {},
   "outputs": [],
   "source": [
    "x1=df2.copy()"
   ]
  },
  {
   "cell_type": "code",
   "execution_count": 32,
   "id": "55d7dbe7",
   "metadata": {},
   "outputs": [],
   "source": [
    "y_pred_all=loaded_model.predict(x1)"
   ]
  },
  {
   "cell_type": "code",
   "execution_count": 33,
   "id": "3f3a5519",
   "metadata": {},
   "outputs": [],
   "source": [
    "df_to_conact=pd.DataFrame(y_pred_all,columns=[\"NO\",\"NO2\",\"NOx\",\"NH3\",\"SO2\",\"CO\",\"Ozone\",\"Benzene\",\"Toluene\",\"Temp\",\"RH\",\"WS\",\"WD\",\"SR\",\"BP\",\"AT\",\"RF\",\"TOT-RF\",\"VWS\",\"Eth-Benzene\",\"Xylene\",\"MP-Xylene\",\"O Xylene\",\"CH4\",\"Population as of 2021 (Estimated)\",\"Latitude\",\"Longitude\",\"Total Length of Roads as of 2019(Km)\",\"Length of National Highways as of 2022(Km)\",\"Length of National Highways as of 2022(Km)\",\"Railway Route as of 2021(Km)\",\"Forest Cover as of 2021(sq Km)\",\"Number of Factories as of 2020 (Units)\",\"Installed Capacity of Power as of 2022(Megawatt)\",\"Death Rate as of 2020(Per 1000)\",\"CNG ONLY\",\"DIESEL\",\"DIESEL/HYBRID\",\"ELECTRIC(BOV)\",\"PETROL\",\"PETROL/CNG\",\"PETROL/HYBRID\"])"
   ]
  },
  {
   "cell_type": "code",
   "execution_count": 34,
   "id": "ffac52c6",
   "metadata": {},
   "outputs": [
    {
     "data": {
      "text/html": [
       "<div>\n",
       "<style scoped>\n",
       "    .dataframe tbody tr th:only-of-type {\n",
       "        vertical-align: middle;\n",
       "    }\n",
       "\n",
       "    .dataframe tbody tr th {\n",
       "        vertical-align: top;\n",
       "    }\n",
       "\n",
       "    .dataframe thead th {\n",
       "        text-align: right;\n",
       "    }\n",
       "</style>\n",
       "<table border=\"1\" class=\"dataframe\">\n",
       "  <thead>\n",
       "    <tr style=\"text-align: right;\">\n",
       "      <th></th>\n",
       "      <th>NO</th>\n",
       "      <th>NO2</th>\n",
       "      <th>NOx</th>\n",
       "      <th>NH3</th>\n",
       "      <th>SO2</th>\n",
       "      <th>CO</th>\n",
       "      <th>Ozone</th>\n",
       "      <th>Benzene</th>\n",
       "      <th>Toluene</th>\n",
       "      <th>Temp</th>\n",
       "      <th>...</th>\n",
       "      <th>Number of Factories as of 2020 (Units)</th>\n",
       "      <th>Installed Capacity of Power as of 2022(Megawatt)</th>\n",
       "      <th>Death Rate as of 2020(Per 1000)</th>\n",
       "      <th>CNG ONLY</th>\n",
       "      <th>DIESEL</th>\n",
       "      <th>DIESEL/HYBRID</th>\n",
       "      <th>ELECTRIC(BOV)</th>\n",
       "      <th>PETROL</th>\n",
       "      <th>PETROL/CNG</th>\n",
       "      <th>PETROL/HYBRID</th>\n",
       "    </tr>\n",
       "  </thead>\n",
       "  <tbody>\n",
       "    <tr>\n",
       "      <th>0</th>\n",
       "      <td>59.618883</td>\n",
       "      <td>83.507511</td>\n",
       "      <td>76.9773</td>\n",
       "      <td>37.579752</td>\n",
       "      <td>11.100035</td>\n",
       "      <td>1.675044</td>\n",
       "      <td>31.228538</td>\n",
       "      <td>3.374878</td>\n",
       "      <td>45.186428</td>\n",
       "      <td>16.818658</td>\n",
       "      <td>...</td>\n",
       "      <td>5379.893904</td>\n",
       "      <td>11721.349976</td>\n",
       "      <td>3.79846</td>\n",
       "      <td>14426.957289</td>\n",
       "      <td>36221.439019</td>\n",
       "      <td>74.306931</td>\n",
       "      <td>9127.78167</td>\n",
       "      <td>559727.930107</td>\n",
       "      <td>18620.680512</td>\n",
       "      <td>4606.244821</td>\n",
       "    </tr>\n",
       "    <tr>\n",
       "      <th>1</th>\n",
       "      <td>59.618883</td>\n",
       "      <td>83.507511</td>\n",
       "      <td>76.9773</td>\n",
       "      <td>37.579752</td>\n",
       "      <td>11.100035</td>\n",
       "      <td>1.675044</td>\n",
       "      <td>31.228538</td>\n",
       "      <td>3.374878</td>\n",
       "      <td>45.186428</td>\n",
       "      <td>16.818658</td>\n",
       "      <td>...</td>\n",
       "      <td>5379.893904</td>\n",
       "      <td>11721.349976</td>\n",
       "      <td>3.79846</td>\n",
       "      <td>14426.957289</td>\n",
       "      <td>36221.439019</td>\n",
       "      <td>74.306931</td>\n",
       "      <td>9127.78167</td>\n",
       "      <td>559727.930107</td>\n",
       "      <td>18620.680512</td>\n",
       "      <td>4606.244821</td>\n",
       "    </tr>\n",
       "    <tr>\n",
       "      <th>2</th>\n",
       "      <td>59.618883</td>\n",
       "      <td>83.507511</td>\n",
       "      <td>76.9773</td>\n",
       "      <td>37.579752</td>\n",
       "      <td>11.100035</td>\n",
       "      <td>1.675044</td>\n",
       "      <td>31.228538</td>\n",
       "      <td>3.374878</td>\n",
       "      <td>45.186428</td>\n",
       "      <td>16.818658</td>\n",
       "      <td>...</td>\n",
       "      <td>5379.893904</td>\n",
       "      <td>11721.349976</td>\n",
       "      <td>3.79846</td>\n",
       "      <td>14426.957289</td>\n",
       "      <td>36221.439019</td>\n",
       "      <td>74.306931</td>\n",
       "      <td>9127.78167</td>\n",
       "      <td>559727.930107</td>\n",
       "      <td>18620.680512</td>\n",
       "      <td>4606.244821</td>\n",
       "    </tr>\n",
       "    <tr>\n",
       "      <th>3</th>\n",
       "      <td>59.618883</td>\n",
       "      <td>83.507511</td>\n",
       "      <td>76.9773</td>\n",
       "      <td>37.579752</td>\n",
       "      <td>11.100035</td>\n",
       "      <td>1.675044</td>\n",
       "      <td>31.228538</td>\n",
       "      <td>3.374878</td>\n",
       "      <td>45.186428</td>\n",
       "      <td>16.818658</td>\n",
       "      <td>...</td>\n",
       "      <td>5379.893904</td>\n",
       "      <td>11721.349976</td>\n",
       "      <td>3.79846</td>\n",
       "      <td>14426.957289</td>\n",
       "      <td>36221.439019</td>\n",
       "      <td>74.306931</td>\n",
       "      <td>9127.78167</td>\n",
       "      <td>559727.930107</td>\n",
       "      <td>18620.680512</td>\n",
       "      <td>4606.244821</td>\n",
       "    </tr>\n",
       "    <tr>\n",
       "      <th>4</th>\n",
       "      <td>59.618883</td>\n",
       "      <td>83.507511</td>\n",
       "      <td>76.9773</td>\n",
       "      <td>37.579752</td>\n",
       "      <td>11.100035</td>\n",
       "      <td>1.675044</td>\n",
       "      <td>31.228538</td>\n",
       "      <td>3.374878</td>\n",
       "      <td>45.186428</td>\n",
       "      <td>16.818658</td>\n",
       "      <td>...</td>\n",
       "      <td>5379.893904</td>\n",
       "      <td>11721.349976</td>\n",
       "      <td>3.79846</td>\n",
       "      <td>14426.957289</td>\n",
       "      <td>36221.439019</td>\n",
       "      <td>74.306931</td>\n",
       "      <td>9127.78167</td>\n",
       "      <td>559727.930107</td>\n",
       "      <td>18620.680512</td>\n",
       "      <td>4606.244821</td>\n",
       "    </tr>\n",
       "  </tbody>\n",
       "</table>\n",
       "<p>5 rows × 42 columns</p>\n",
       "</div>"
      ],
      "text/plain": [
       "          NO        NO2      NOx        NH3        SO2        CO      Ozone  \\\n",
       "0  59.618883  83.507511  76.9773  37.579752  11.100035  1.675044  31.228538   \n",
       "1  59.618883  83.507511  76.9773  37.579752  11.100035  1.675044  31.228538   \n",
       "2  59.618883  83.507511  76.9773  37.579752  11.100035  1.675044  31.228538   \n",
       "3  59.618883  83.507511  76.9773  37.579752  11.100035  1.675044  31.228538   \n",
       "4  59.618883  83.507511  76.9773  37.579752  11.100035  1.675044  31.228538   \n",
       "\n",
       "    Benzene    Toluene       Temp  ...  \\\n",
       "0  3.374878  45.186428  16.818658  ...   \n",
       "1  3.374878  45.186428  16.818658  ...   \n",
       "2  3.374878  45.186428  16.818658  ...   \n",
       "3  3.374878  45.186428  16.818658  ...   \n",
       "4  3.374878  45.186428  16.818658  ...   \n",
       "\n",
       "   Number of Factories as of 2020 (Units)  \\\n",
       "0                             5379.893904   \n",
       "1                             5379.893904   \n",
       "2                             5379.893904   \n",
       "3                             5379.893904   \n",
       "4                             5379.893904   \n",
       "\n",
       "   Installed Capacity of Power as of 2022(Megawatt)  \\\n",
       "0                                      11721.349976   \n",
       "1                                      11721.349976   \n",
       "2                                      11721.349976   \n",
       "3                                      11721.349976   \n",
       "4                                      11721.349976   \n",
       "\n",
       "   Death Rate as of 2020(Per 1000)      CNG ONLY        DIESEL  DIESEL/HYBRID  \\\n",
       "0                          3.79846  14426.957289  36221.439019      74.306931   \n",
       "1                          3.79846  14426.957289  36221.439019      74.306931   \n",
       "2                          3.79846  14426.957289  36221.439019      74.306931   \n",
       "3                          3.79846  14426.957289  36221.439019      74.306931   \n",
       "4                          3.79846  14426.957289  36221.439019      74.306931   \n",
       "\n",
       "   ELECTRIC(BOV)         PETROL    PETROL/CNG  PETROL/HYBRID  \n",
       "0     9127.78167  559727.930107  18620.680512    4606.244821  \n",
       "1     9127.78167  559727.930107  18620.680512    4606.244821  \n",
       "2     9127.78167  559727.930107  18620.680512    4606.244821  \n",
       "3     9127.78167  559727.930107  18620.680512    4606.244821  \n",
       "4     9127.78167  559727.930107  18620.680512    4606.244821  \n",
       "\n",
       "[5 rows x 42 columns]"
      ]
     },
     "execution_count": 34,
     "metadata": {},
     "output_type": "execute_result"
    }
   ],
   "source": [
    "df_to_conact.head()"
   ]
  },
  {
   "cell_type": "code",
   "execution_count": 35,
   "id": "748480d2",
   "metadata": {},
   "outputs": [],
   "source": [
    "x1.reset_index(drop=True, inplace=True)\n",
    "df_to_conact.reset_index(drop=True, inplace=True)"
   ]
  },
  {
   "cell_type": "code",
   "execution_count": 36,
   "id": "4c36641b",
   "metadata": {},
   "outputs": [],
   "source": [
    "x4=pd.merge(x1, df_to_conact, left_index=True, right_index=True)"
   ]
  },
  {
   "cell_type": "code",
   "execution_count": 37,
   "id": "5a82f999",
   "metadata": {},
   "outputs": [
    {
     "data": {
      "text/plain": [
       "(612, 77)"
      ]
     },
     "execution_count": 37,
     "metadata": {},
     "output_type": "execute_result"
    }
   ],
   "source": [
    "x4.shape"
   ]
  },
  {
   "cell_type": "code",
   "execution_count": 38,
   "id": "66bb3058",
   "metadata": {},
   "outputs": [
    {
     "name": "stdout",
     "output_type": "stream",
     "text": [
      "(612, 77)\n",
      "(612, 42)\n",
      "(612, 35)\n"
     ]
    }
   ],
   "source": [
    "print(x4.shape)\n",
    "print(df_to_conact.shape)\n",
    "print(x1.shape)"
   ]
  },
  {
   "cell_type": "code",
   "execution_count": 39,
   "id": "90ea7aeb",
   "metadata": {},
   "outputs": [],
   "source": [
    "from sklearn.tree import DecisionTreeRegressor"
   ]
  },
  {
   "cell_type": "code",
   "execution_count": 40,
   "id": "4423f380",
   "metadata": {},
   "outputs": [],
   "source": [
    "import pickle\n",
    "filename = 'dt_reg1.sav'\n",
    "loaded_model1 = pickle.load(open(filename, 'rb'))"
   ]
  },
  {
   "cell_type": "code",
   "execution_count": 41,
   "id": "9f63dcc1",
   "metadata": {},
   "outputs": [],
   "source": [
    "y_predict=loaded_model1.predict(x4)"
   ]
  },
  {
   "cell_type": "code",
   "execution_count": 42,
   "id": "24006d22",
   "metadata": {},
   "outputs": [
    {
     "data": {
      "text/plain": [
       "array([435.45347323, 435.45347323, 435.45347323, 435.45347323,\n",
       "       435.45347323, 435.45347323, 435.45347323, 435.45347323,\n",
       "       435.45347323, 435.45347323, 435.45347323, 435.45347323,\n",
       "       435.45347323, 435.45347323, 435.45347323, 435.45347323,\n",
       "       435.45347323, 435.45347323,  47.67373185,  47.67373185,\n",
       "        47.67373185,  47.67373185,  47.67373185,  47.67373185,\n",
       "        47.67373185,  47.67373185,  47.67373185,  47.67373185,\n",
       "        47.67373185,  47.67373185,  47.67373185,  47.67373185,\n",
       "        47.67373185,  47.67373185,  47.67373185,  47.67373185,\n",
       "        58.04430186,  58.04430186,  58.04430186,  58.04430186,\n",
       "        58.04430186,  58.04430186,  58.04430186,  58.04430186,\n",
       "        58.04430186,  58.04430186,  58.04430186,  58.04430186,\n",
       "        58.04430186,  58.04430186,  58.04430186,  58.04430186,\n",
       "        58.04430186,  58.04430186, 306.03344742, 306.03344742,\n",
       "       306.03344742, 306.03344742, 306.03344742, 306.03344742,\n",
       "       306.03344742, 306.03344742, 306.03344742, 306.03344742,\n",
       "       306.03344742, 306.03344742, 306.03344742, 306.03344742,\n",
       "       306.03344742, 306.03344742, 306.03344742, 306.03344742,\n",
       "        33.42655343,  33.42655343,  33.42655343,  33.42655343,\n",
       "        33.42655343,  33.42655343,  33.42655343,  33.42655343,\n",
       "        33.42655343,  33.42655343,  33.42655343,  33.42655343,\n",
       "        33.42655343,  33.42655343,  33.42655343,  33.42655343,\n",
       "        33.42655343,  33.42655343, 218.94667165, 218.94667165,\n",
       "       218.94667165, 218.94667165, 218.94667165, 218.94667165,\n",
       "       218.94667165, 218.94667165, 218.94667165, 218.94667165,\n",
       "       218.94667165, 218.94667165, 218.94667165, 218.94667165,\n",
       "       218.94667165, 218.94667165, 218.94667165, 218.94667165,\n",
       "        35.91550764,  35.91550764,  35.91550764,  35.91550764,\n",
       "        35.91550764,  35.91550764,  35.91550764,  35.91550764,\n",
       "        35.91550764,  35.91550764,  35.91550764,  35.91550764,\n",
       "        35.91550764,  35.91550764,  35.91550764,  35.91550764,\n",
       "        35.91550764,  35.91550764, 253.01379323, 253.01379323,\n",
       "       253.01379323, 253.01379323, 253.01379323, 253.01379323,\n",
       "       253.01379323, 253.01379323, 253.01379323, 253.01379323,\n",
       "       253.01379323, 253.01379323, 253.01379323, 253.01379323,\n",
       "       253.01379323, 253.01379323, 253.01379323, 253.01379323,\n",
       "        68.5137788 ,  68.5137788 ,  68.5137788 ,  68.5137788 ,\n",
       "        68.5137788 ,  68.5137788 ,  68.5137788 ,  68.5137788 ,\n",
       "        68.5137788 ,  68.5137788 ,  68.5137788 ,  68.5137788 ,\n",
       "        68.5137788 ,  68.5137788 ,  68.5137788 ,  68.5137788 ,\n",
       "        68.5137788 ,  68.5137788 , 373.67202591, 373.67202591,\n",
       "       373.67202591, 373.67202591, 373.67202591, 373.67202591,\n",
       "       373.67202591, 373.67202591, 373.67202591, 373.67202591,\n",
       "       373.67202591, 373.67202591, 373.67202591, 373.67202591,\n",
       "       373.67202591, 373.67202591, 373.67202591, 373.67202591,\n",
       "       176.97798014, 176.97798014, 176.97798014, 176.97798014,\n",
       "       176.97798014, 176.97798014, 176.97798014, 176.97798014,\n",
       "       176.97798014, 176.97798014, 176.97798014, 176.97798014,\n",
       "       176.97798014, 176.97798014, 176.97798014, 176.97798014,\n",
       "       176.97798014, 176.97798014, 127.79937951, 127.79937951,\n",
       "       127.79937951, 127.79937951, 127.79937951, 127.79937951,\n",
       "       127.79937951, 127.79937951, 127.79937951, 127.79937951,\n",
       "       127.79937951, 127.79937951, 127.79937951, 127.79937951,\n",
       "       127.79937951, 127.79937951, 127.79937951, 127.79937951,\n",
       "       118.40824574, 118.40824574, 118.40824574, 118.40824574,\n",
       "       118.40824574, 118.40824574, 118.40824574, 118.40824574,\n",
       "       118.40824574, 118.40824574, 118.40824574, 118.40824574,\n",
       "       118.40824574, 118.40824574, 118.40824574, 118.40824574,\n",
       "       118.40824574, 118.40824574,  73.24812355,  73.24812355,\n",
       "        73.24812355,  73.24812355,  73.24812355,  73.24812355,\n",
       "        73.24812355,  73.24812355,  73.24812355,  73.24812355,\n",
       "        73.24812355,  73.24812355,  73.24812355,  73.24812355,\n",
       "        73.24812355,  73.24812355,  73.24812355,  73.24812355,\n",
       "        87.53177434,  87.53177434,  87.53177434,  87.53177434,\n",
       "        87.53177434,  87.53177434,  87.53177434,  87.53177434,\n",
       "        87.53177434,  87.53177434,  87.53177434,  87.53177434,\n",
       "        87.53177434,  87.53177434,  87.53177434,  87.53177434,\n",
       "        87.53177434,  87.53177434,  81.71131538,  81.71131538,\n",
       "        81.71131538,  81.71131538,  81.71131538,  81.71131538,\n",
       "        81.71131538,  81.71131538,  81.71131538,  81.71131538,\n",
       "        81.71131538,  81.71131538,  81.71131538,  81.71131538,\n",
       "        81.71131538,  81.71131538,  81.71131538,  81.71131538,\n",
       "        90.132     ,  90.132     ,  90.132     ,  90.132     ,\n",
       "        90.132     ,  90.132     ,  90.132     ,  90.132     ,\n",
       "        90.132     ,  90.132     ,  90.132     ,  90.132     ,\n",
       "        90.132     ,  90.132     ,  90.132     ,  90.132     ,\n",
       "        90.132     ,  90.132     ,  25.51634183,  25.51634183,\n",
       "        25.51634183,  25.51634183,  25.51634183,  25.51634183,\n",
       "        25.51634183,  25.51634183,  25.51634183,  25.51634183,\n",
       "        25.51634183,  25.51634183,  25.51634183,  25.51634183,\n",
       "        25.51634183,  25.51634183,  25.51634183,  25.51634183,\n",
       "        33.64625843,  33.64625843,  33.64625843,  33.64625843,\n",
       "        33.64625843,  33.64625843,  33.64625843,  33.64625843,\n",
       "        33.64625843,  33.64625843,  33.64625843,  33.64625843,\n",
       "        33.64625843,  33.64625843,  33.64625843,  33.64625843,\n",
       "        33.64625843,  33.64625843,  73.95710999,  73.95710999,\n",
       "        73.95710999,  73.95710999,  73.95710999,  73.95710999,\n",
       "        73.95710999,  73.95710999,  73.95710999,  73.95710999,\n",
       "        73.95710999,  73.95710999,  73.95710999,  73.95710999,\n",
       "        73.95710999,  73.95710999,  73.95710999,  73.95710999,\n",
       "       111.14627178, 111.14627178, 111.14627178, 111.14627178,\n",
       "       111.14627178, 111.14627178, 111.14627178, 111.14627178,\n",
       "       111.14627178, 111.14627178, 111.14627178, 111.14627178,\n",
       "       111.14627178, 111.14627178, 111.14627178, 111.14627178,\n",
       "       111.14627178, 111.14627178,  48.03510063,  48.03510063,\n",
       "        48.03510063,  48.03510063,  48.03510063,  48.03510063,\n",
       "        48.03510063,  48.03510063,  48.03510063,  48.03510063,\n",
       "        48.03510063,  48.03510063,  48.03510063,  48.03510063,\n",
       "        48.03510063,  48.03510063,  48.03510063,  48.03510063,\n",
       "       164.8492859 , 164.8492859 , 164.8492859 , 164.8492859 ,\n",
       "       164.8492859 , 164.8492859 , 164.8492859 , 164.8492859 ,\n",
       "       164.8492859 , 164.8492859 , 164.8492859 , 164.8492859 ,\n",
       "       164.8492859 , 164.8492859 , 164.8492859 , 164.8492859 ,\n",
       "       164.8492859 , 164.8492859 ,  91.31      ,  91.31      ,\n",
       "        91.31      ,  91.31      ,  91.31      ,  91.31      ,\n",
       "        91.31      ,  91.31      ,  91.31      ,  91.31      ,\n",
       "        91.31      ,  91.31      ,  91.31      ,  91.31      ,\n",
       "        91.31      ,  91.31      ,  91.31      ,  91.31      ,\n",
       "       185.46851383, 185.46851383, 185.46851383, 185.46851383,\n",
       "       185.46851383, 185.46851383, 185.46851383, 185.46851383,\n",
       "       185.46851383, 185.46851383, 185.46851383, 185.46851383,\n",
       "       185.46851383, 185.46851383, 185.46851383, 185.46851383,\n",
       "       185.46851383, 185.46851383, 133.01859959, 133.01859959,\n",
       "       133.01859959, 133.01859959, 133.01859959, 133.01859959,\n",
       "       133.01859959, 133.01859959, 133.01859959, 133.01859959,\n",
       "       133.01859959, 133.01859959, 133.01859959, 133.01859959,\n",
       "       133.01859959, 133.01859959, 133.01859959, 133.01859959,\n",
       "        72.4906831 ,  72.4906831 ,  72.4906831 ,  72.4906831 ,\n",
       "        72.4906831 ,  72.4906831 ,  72.4906831 ,  72.4906831 ,\n",
       "        72.4906831 ,  72.4906831 ,  72.4906831 ,  72.4906831 ,\n",
       "        72.4906831 ,  72.4906831 ,  72.4906831 ,  72.4906831 ,\n",
       "        72.4906831 ,  72.4906831 , 118.0282493 , 118.0282493 ,\n",
       "       118.0282493 , 118.0282493 , 118.0282493 , 118.0282493 ,\n",
       "       118.0282493 , 118.0282493 , 118.0282493 , 118.0282493 ,\n",
       "       118.0282493 , 118.0282493 , 118.0282493 , 118.0282493 ,\n",
       "       118.0282493 , 118.0282493 , 118.0282493 , 118.0282493 ,\n",
       "        31.97416049,  31.97416049,  31.97416049,  31.97416049,\n",
       "        31.97416049,  31.97416049,  31.97416049,  31.97416049,\n",
       "        31.97416049,  31.97416049,  31.97416049,  31.97416049,\n",
       "        31.97416049,  31.97416049,  31.97416049,  31.97416049,\n",
       "        31.97416049,  31.97416049, 158.03294862, 158.03294862,\n",
       "       158.03294862, 158.03294862, 158.03294862, 158.03294862,\n",
       "       158.03294862, 158.03294862, 158.03294862, 158.03294862,\n",
       "       158.03294862, 158.03294862, 158.03294862, 158.03294862,\n",
       "       158.03294862, 158.03294862, 158.03294862, 158.03294862,\n",
       "        27.67644812,  27.67644812,  27.67644812,  27.67644812,\n",
       "        27.67644812,  27.67644812,  27.67644812,  27.67644812,\n",
       "        27.67644812,  27.67644812,  27.67644812,  27.67644812,\n",
       "        27.67644812,  27.67644812,  27.67644812,  27.67644812,\n",
       "        27.67644812,  27.67644812,  82.2563666 ,  82.2563666 ,\n",
       "        82.2563666 ,  82.2563666 ,  82.2563666 ,  82.2563666 ,\n",
       "        82.2563666 ,  82.2563666 ,  82.2563666 ,  82.2563666 ,\n",
       "        82.2563666 ,  82.2563666 ,  82.2563666 ,  82.2563666 ,\n",
       "        82.2563666 ,  82.2563666 ,  82.2563666 ,  82.2563666 ,\n",
       "        49.24387545,  49.24387545,  49.24387545,  49.24387545,\n",
       "        49.24387545,  49.24387545,  49.24387545,  49.24387545,\n",
       "        49.24387545,  49.24387545,  49.24387545,  49.24387545,\n",
       "        49.24387545,  49.24387545,  49.24387545,  49.24387545,\n",
       "        49.24387545,  49.24387545,  30.34093741,  30.34093741,\n",
       "        30.34093741,  30.34093741,  30.34093741,  30.34093741,\n",
       "        30.34093741,  30.34093741,  30.34093741,  30.34093741,\n",
       "        30.34093741,  30.34093741,  30.34093741,  30.34093741,\n",
       "        30.34093741,  30.34093741,  30.34093741,  30.34093741])"
      ]
     },
     "execution_count": 42,
     "metadata": {},
     "output_type": "execute_result"
    }
   ],
   "source": [
    "y_predict"
   ]
  },
  {
   "cell_type": "code",
   "execution_count": 43,
   "id": "d02fd76d",
   "metadata": {},
   "outputs": [],
   "source": [
    "df3=df.copy()"
   ]
  },
  {
   "cell_type": "code",
   "execution_count": 44,
   "id": "89e155a1",
   "metadata": {},
   "outputs": [],
   "source": [
    "df_predict=pd.DataFrame(y_predict,columns=[\"PM2.5_Prediction\"])"
   ]
  },
  {
   "cell_type": "code",
   "execution_count": 46,
   "id": "1dd077d4",
   "metadata": {},
   "outputs": [
    {
     "data": {
      "text/plain": [
       "(612, 1)"
      ]
     },
     "execution_count": 46,
     "metadata": {},
     "output_type": "execute_result"
    }
   ],
   "source": [
    "df_predict.shape"
   ]
  },
  {
   "cell_type": "code",
   "execution_count": 48,
   "id": "c9a3956f",
   "metadata": {},
   "outputs": [
    {
     "data": {
      "text/plain": [
       "(612, 4)"
      ]
     },
     "execution_count": 48,
     "metadata": {},
     "output_type": "execute_result"
    }
   ],
   "source": [
    "df3.shape"
   ]
  },
  {
   "cell_type": "code",
   "execution_count": 49,
   "id": "55017e61",
   "metadata": {},
   "outputs": [],
   "source": [
    "df3.drop([\"PM2.5_Prediction\"],axis=1,inplace=True)"
   ]
  },
  {
   "cell_type": "code",
   "execution_count": 50,
   "id": "7dd03c4f",
   "metadata": {},
   "outputs": [
    {
     "data": {
      "text/html": [
       "<div>\n",
       "<style scoped>\n",
       "    .dataframe tbody tr th:only-of-type {\n",
       "        vertical-align: middle;\n",
       "    }\n",
       "\n",
       "    .dataframe tbody tr th {\n",
       "        vertical-align: top;\n",
       "    }\n",
       "\n",
       "    .dataframe thead th {\n",
       "        text-align: right;\n",
       "    }\n",
       "</style>\n",
       "<table border=\"1\" class=\"dataframe\">\n",
       "  <thead>\n",
       "    <tr style=\"text-align: right;\">\n",
       "      <th></th>\n",
       "      <th>ID</th>\n",
       "      <th>City</th>\n",
       "      <th>Time Periods</th>\n",
       "    </tr>\n",
       "  </thead>\n",
       "  <tbody>\n",
       "    <tr>\n",
       "      <th>0</th>\n",
       "      <td>1</td>\n",
       "      <td>Delhi</td>\n",
       "      <td>01-01-2023 0:00</td>\n",
       "    </tr>\n",
       "    <tr>\n",
       "      <th>1</th>\n",
       "      <td>2</td>\n",
       "      <td>Delhi</td>\n",
       "      <td>01-01-2023 4:00</td>\n",
       "    </tr>\n",
       "    <tr>\n",
       "      <th>2</th>\n",
       "      <td>3</td>\n",
       "      <td>Delhi</td>\n",
       "      <td>01-01-2023 8:00</td>\n",
       "    </tr>\n",
       "    <tr>\n",
       "      <th>3</th>\n",
       "      <td>4</td>\n",
       "      <td>Delhi</td>\n",
       "      <td>01-01-2023 12:00</td>\n",
       "    </tr>\n",
       "    <tr>\n",
       "      <th>4</th>\n",
       "      <td>5</td>\n",
       "      <td>Delhi</td>\n",
       "      <td>01-01-2023 16:00</td>\n",
       "    </tr>\n",
       "  </tbody>\n",
       "</table>\n",
       "</div>"
      ],
      "text/plain": [
       "   ID   City      Time Periods\n",
       "0   1  Delhi   01-01-2023 0:00\n",
       "1   2  Delhi   01-01-2023 4:00\n",
       "2   3  Delhi   01-01-2023 8:00\n",
       "3   4  Delhi  01-01-2023 12:00\n",
       "4   5  Delhi  01-01-2023 16:00"
      ]
     },
     "execution_count": 50,
     "metadata": {},
     "output_type": "execute_result"
    }
   ],
   "source": [
    "df3.head()"
   ]
  },
  {
   "cell_type": "code",
   "execution_count": 51,
   "id": "1c2ffcc0",
   "metadata": {},
   "outputs": [],
   "source": [
    "df2 = pd.concat([df3, df_predict], axis='columns')"
   ]
  },
  {
   "cell_type": "code",
   "execution_count": 52,
   "id": "aa709ed9",
   "metadata": {},
   "outputs": [
    {
     "data": {
      "text/html": [
       "<div>\n",
       "<style scoped>\n",
       "    .dataframe tbody tr th:only-of-type {\n",
       "        vertical-align: middle;\n",
       "    }\n",
       "\n",
       "    .dataframe tbody tr th {\n",
       "        vertical-align: top;\n",
       "    }\n",
       "\n",
       "    .dataframe thead th {\n",
       "        text-align: right;\n",
       "    }\n",
       "</style>\n",
       "<table border=\"1\" class=\"dataframe\">\n",
       "  <thead>\n",
       "    <tr style=\"text-align: right;\">\n",
       "      <th></th>\n",
       "      <th>ID</th>\n",
       "      <th>City</th>\n",
       "      <th>Time Periods</th>\n",
       "      <th>PM2.5_Prediction</th>\n",
       "    </tr>\n",
       "  </thead>\n",
       "  <tbody>\n",
       "    <tr>\n",
       "      <th>0</th>\n",
       "      <td>1</td>\n",
       "      <td>Delhi</td>\n",
       "      <td>01-01-2023 0:00</td>\n",
       "      <td>435.453473</td>\n",
       "    </tr>\n",
       "    <tr>\n",
       "      <th>1</th>\n",
       "      <td>2</td>\n",
       "      <td>Delhi</td>\n",
       "      <td>01-01-2023 4:00</td>\n",
       "      <td>435.453473</td>\n",
       "    </tr>\n",
       "    <tr>\n",
       "      <th>2</th>\n",
       "      <td>3</td>\n",
       "      <td>Delhi</td>\n",
       "      <td>01-01-2023 8:00</td>\n",
       "      <td>435.453473</td>\n",
       "    </tr>\n",
       "    <tr>\n",
       "      <th>3</th>\n",
       "      <td>4</td>\n",
       "      <td>Delhi</td>\n",
       "      <td>01-01-2023 12:00</td>\n",
       "      <td>435.453473</td>\n",
       "    </tr>\n",
       "    <tr>\n",
       "      <th>4</th>\n",
       "      <td>5</td>\n",
       "      <td>Delhi</td>\n",
       "      <td>01-01-2023 16:00</td>\n",
       "      <td>435.453473</td>\n",
       "    </tr>\n",
       "  </tbody>\n",
       "</table>\n",
       "</div>"
      ],
      "text/plain": [
       "   ID   City      Time Periods  PM2.5_Prediction\n",
       "0   1  Delhi   01-01-2023 0:00        435.453473\n",
       "1   2  Delhi   01-01-2023 4:00        435.453473\n",
       "2   3  Delhi   01-01-2023 8:00        435.453473\n",
       "3   4  Delhi  01-01-2023 12:00        435.453473\n",
       "4   5  Delhi  01-01-2023 16:00        435.453473"
      ]
     },
     "execution_count": 52,
     "metadata": {},
     "output_type": "execute_result"
    }
   ],
   "source": [
    "df2.head()"
   ]
  },
  {
   "cell_type": "code",
   "execution_count": 53,
   "id": "0ca6cf90",
   "metadata": {},
   "outputs": [
    {
     "data": {
      "text/plain": [
       "(612, 4)"
      ]
     },
     "execution_count": 53,
     "metadata": {},
     "output_type": "execute_result"
    }
   ],
   "source": [
    "df2.shape"
   ]
  },
  {
   "cell_type": "code",
   "execution_count": 57,
   "id": "bd698c0d",
   "metadata": {},
   "outputs": [],
   "source": [
    "df2.to_excel(\"to_submit2.xlsx\", index=False)"
   ]
  },
  {
   "cell_type": "markdown",
   "id": "8ea4471d",
   "metadata": {},
   "source": [
    "## Our Result "
   ]
  },
  {
   "cell_type": "code",
   "execution_count": null,
   "id": "447c26b7",
   "metadata": {},
   "outputs": [],
   "source": []
  }
 ],
 "metadata": {
  "kernelspec": {
   "display_name": "Python 3 (ipykernel)",
   "language": "python",
   "name": "python3"
  },
  "language_info": {
   "codemirror_mode": {
    "name": "ipython",
    "version": 3
   },
   "file_extension": ".py",
   "mimetype": "text/x-python",
   "name": "python",
   "nbconvert_exporter": "python",
   "pygments_lexer": "ipython3",
   "version": "3.9.12"
  }
 },
 "nbformat": 4,
 "nbformat_minor": 5
}
