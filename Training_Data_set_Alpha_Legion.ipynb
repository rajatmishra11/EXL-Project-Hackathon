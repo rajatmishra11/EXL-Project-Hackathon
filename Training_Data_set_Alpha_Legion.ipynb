{
 "cells": [
  {
   "cell_type": "markdown",
   "id": "a74fb557",
   "metadata": {},
   "source": [
    "## Load the data"
   ]
  },
  {
   "cell_type": "code",
   "execution_count": 2,
   "id": "5b4b7ae6",
   "metadata": {},
   "outputs": [],
   "source": [
    "import pandas as pd"
   ]
  },
  {
   "cell_type": "code",
   "execution_count": 3,
   "id": "ee38ef42",
   "metadata": {},
   "outputs": [],
   "source": [
    "df=pd.read_csv(\"EXL_EQ_2023_Dataset.csv\")"
   ]
  },
  {
   "cell_type": "code",
   "execution_count": 4,
   "id": "daea78ea",
   "metadata": {},
   "outputs": [
    {
     "data": {
      "text/html": [
       "<div>\n",
       "<style scoped>\n",
       "    .dataframe tbody tr th:only-of-type {\n",
       "        vertical-align: middle;\n",
       "    }\n",
       "\n",
       "    .dataframe tbody tr th {\n",
       "        vertical-align: top;\n",
       "    }\n",
       "\n",
       "    .dataframe thead th {\n",
       "        text-align: right;\n",
       "    }\n",
       "</style>\n",
       "<table border=\"1\" class=\"dataframe\">\n",
       "  <thead>\n",
       "    <tr style=\"text-align: right;\">\n",
       "      <th></th>\n",
       "      <th>PM2.5</th>\n",
       "      <th>NO</th>\n",
       "      <th>NO2</th>\n",
       "      <th>NOx</th>\n",
       "      <th>NH3</th>\n",
       "      <th>SO2</th>\n",
       "      <th>CO</th>\n",
       "      <th>Ozone</th>\n",
       "      <th>Benzene</th>\n",
       "      <th>Toluene</th>\n",
       "      <th>...</th>\n",
       "      <th>Installed Capacity of Power as of 2022(Megawatt)</th>\n",
       "      <th>Death Rate as of 2020(Per 1000)</th>\n",
       "      <th>CNG ONLY</th>\n",
       "      <th>DIESEL</th>\n",
       "      <th>DIESEL/HYBRID</th>\n",
       "      <th>ELECTRIC(BOV)</th>\n",
       "      <th>PETROL</th>\n",
       "      <th>PETROL/CNG</th>\n",
       "      <th>PETROL/HYBRID</th>\n",
       "      <th>Time Periods</th>\n",
       "    </tr>\n",
       "  </thead>\n",
       "  <tbody>\n",
       "    <tr>\n",
       "      <th>0</th>\n",
       "      <td>549.256878</td>\n",
       "      <td>181.010975</td>\n",
       "      <td>91.247522</td>\n",
       "      <td>188.364425</td>\n",
       "      <td>79.707417</td>\n",
       "      <td>10.175812</td>\n",
       "      <td>3.520142</td>\n",
       "      <td>23.411029</td>\n",
       "      <td>NaN</td>\n",
       "      <td>NaN</td>\n",
       "      <td>...</td>\n",
       "      <td>7617</td>\n",
       "      <td>3.6</td>\n",
       "      <td>13,968</td>\n",
       "      <td>10,528</td>\n",
       "      <td>32</td>\n",
       "      <td>12,379</td>\n",
       "      <td>3,60,440</td>\n",
       "      <td>21,424</td>\n",
       "      <td>5,313</td>\n",
       "      <td>2020-01-01 00:00</td>\n",
       "    </tr>\n",
       "    <tr>\n",
       "      <th>1</th>\n",
       "      <td>435.438303</td>\n",
       "      <td>194.247049</td>\n",
       "      <td>79.661701</td>\n",
       "      <td>203.481853</td>\n",
       "      <td>66.258913</td>\n",
       "      <td>11.615925</td>\n",
       "      <td>3.464807</td>\n",
       "      <td>29.331609</td>\n",
       "      <td>9.827428</td>\n",
       "      <td>NaN</td>\n",
       "      <td>...</td>\n",
       "      <td>7617</td>\n",
       "      <td>3.6</td>\n",
       "      <td>13,968</td>\n",
       "      <td>10,528</td>\n",
       "      <td>32</td>\n",
       "      <td>12,379</td>\n",
       "      <td>3,60,440</td>\n",
       "      <td>21,424</td>\n",
       "      <td>5,313</td>\n",
       "      <td>2020-01-01 04:00</td>\n",
       "    </tr>\n",
       "    <tr>\n",
       "      <th>2</th>\n",
       "      <td>453.312378</td>\n",
       "      <td>112.499494</td>\n",
       "      <td>121.740909</td>\n",
       "      <td>153.914993</td>\n",
       "      <td>74.356791</td>\n",
       "      <td>10.590183</td>\n",
       "      <td>2.460498</td>\n",
       "      <td>30.172308</td>\n",
       "      <td>9.085975</td>\n",
       "      <td>NaN</td>\n",
       "      <td>...</td>\n",
       "      <td>7617</td>\n",
       "      <td>3.6</td>\n",
       "      <td>13,968</td>\n",
       "      <td>10,528</td>\n",
       "      <td>32</td>\n",
       "      <td>12,379</td>\n",
       "      <td>3,60,440</td>\n",
       "      <td>21,424</td>\n",
       "      <td>5,313</td>\n",
       "      <td>2020-01-01 08:00</td>\n",
       "    </tr>\n",
       "    <tr>\n",
       "      <th>3</th>\n",
       "      <td>186.603123</td>\n",
       "      <td>56.922094</td>\n",
       "      <td>114.142207</td>\n",
       "      <td>91.504524</td>\n",
       "      <td>NaN</td>\n",
       "      <td>12.217971</td>\n",
       "      <td>1.405930</td>\n",
       "      <td>30.493537</td>\n",
       "      <td>3.884649</td>\n",
       "      <td>104.475114</td>\n",
       "      <td>...</td>\n",
       "      <td>7617</td>\n",
       "      <td>3.6</td>\n",
       "      <td>13,968</td>\n",
       "      <td>10,528</td>\n",
       "      <td>32</td>\n",
       "      <td>12,379</td>\n",
       "      <td>3,60,440</td>\n",
       "      <td>21,424</td>\n",
       "      <td>5,313</td>\n",
       "      <td>2020-01-01 12:00</td>\n",
       "    </tr>\n",
       "    <tr>\n",
       "      <th>4</th>\n",
       "      <td>262.616309</td>\n",
       "      <td>77.363086</td>\n",
       "      <td>123.790340</td>\n",
       "      <td>117.065760</td>\n",
       "      <td>NaN</td>\n",
       "      <td>13.331616</td>\n",
       "      <td>2.692100</td>\n",
       "      <td>18.045684</td>\n",
       "      <td>5.605006</td>\n",
       "      <td>96.718827</td>\n",
       "      <td>...</td>\n",
       "      <td>7617</td>\n",
       "      <td>3.6</td>\n",
       "      <td>13,968</td>\n",
       "      <td>10,528</td>\n",
       "      <td>32</td>\n",
       "      <td>12,379</td>\n",
       "      <td>3,60,440</td>\n",
       "      <td>21,424</td>\n",
       "      <td>5,313</td>\n",
       "      <td>2020-01-01 16:00</td>\n",
       "    </tr>\n",
       "  </tbody>\n",
       "</table>\n",
       "<p>5 rows × 45 columns</p>\n",
       "</div>"
      ],
      "text/plain": [
       "        PM2.5          NO         NO2         NOx        NH3        SO2  \\\n",
       "0  549.256878  181.010975   91.247522  188.364425  79.707417  10.175812   \n",
       "1  435.438303  194.247049   79.661701  203.481853  66.258913  11.615925   \n",
       "2  453.312378  112.499494  121.740909  153.914993  74.356791  10.590183   \n",
       "3  186.603123   56.922094  114.142207   91.504524        NaN  12.217971   \n",
       "4  262.616309   77.363086  123.790340  117.065760        NaN  13.331616   \n",
       "\n",
       "         CO      Ozone   Benzene     Toluene  ...  \\\n",
       "0  3.520142  23.411029       NaN         NaN  ...   \n",
       "1  3.464807  29.331609  9.827428         NaN  ...   \n",
       "2  2.460498  30.172308  9.085975         NaN  ...   \n",
       "3  1.405930  30.493537  3.884649  104.475114  ...   \n",
       "4  2.692100  18.045684  5.605006   96.718827  ...   \n",
       "\n",
       "   Installed Capacity of Power as of 2022(Megawatt)  \\\n",
       "0                                              7617   \n",
       "1                                              7617   \n",
       "2                                              7617   \n",
       "3                                              7617   \n",
       "4                                              7617   \n",
       "\n",
       "   Death Rate as of 2020(Per 1000)  CNG ONLY  DIESEL  DIESEL/HYBRID  \\\n",
       "0                              3.6    13,968  10,528             32   \n",
       "1                              3.6    13,968  10,528             32   \n",
       "2                              3.6    13,968  10,528             32   \n",
       "3                              3.6    13,968  10,528             32   \n",
       "4                              3.6    13,968  10,528             32   \n",
       "\n",
       "   ELECTRIC(BOV)    PETROL  PETROL/CNG  PETROL/HYBRID      Time Periods  \n",
       "0         12,379  3,60,440      21,424          5,313  2020-01-01 00:00  \n",
       "1         12,379  3,60,440      21,424          5,313  2020-01-01 04:00  \n",
       "2         12,379  3,60,440      21,424          5,313  2020-01-01 08:00  \n",
       "3         12,379  3,60,440      21,424          5,313  2020-01-01 12:00  \n",
       "4         12,379  3,60,440      21,424          5,313  2020-01-01 16:00  \n",
       "\n",
       "[5 rows x 45 columns]"
      ]
     },
     "execution_count": 4,
     "metadata": {},
     "output_type": "execute_result"
    }
   ],
   "source": [
    "df.head()"
   ]
  },
  {
   "cell_type": "code",
   "execution_count": 5,
   "id": "b6906ff8",
   "metadata": {},
   "outputs": [
    {
     "data": {
      "text/html": [
       "<div>\n",
       "<style scoped>\n",
       "    .dataframe tbody tr th:only-of-type {\n",
       "        vertical-align: middle;\n",
       "    }\n",
       "\n",
       "    .dataframe tbody tr th {\n",
       "        vertical-align: top;\n",
       "    }\n",
       "\n",
       "    .dataframe thead th {\n",
       "        text-align: right;\n",
       "    }\n",
       "</style>\n",
       "<table border=\"1\" class=\"dataframe\">\n",
       "  <thead>\n",
       "    <tr style=\"text-align: right;\">\n",
       "      <th></th>\n",
       "      <th>Time Periods</th>\n",
       "      <th>PETROL</th>\n",
       "    </tr>\n",
       "  </thead>\n",
       "  <tbody>\n",
       "    <tr>\n",
       "      <th>0</th>\n",
       "      <td>2020-01-01 00:00</td>\n",
       "      <td>3,60,440</td>\n",
       "    </tr>\n",
       "    <tr>\n",
       "      <th>1</th>\n",
       "      <td>2020-01-01 04:00</td>\n",
       "      <td>3,60,440</td>\n",
       "    </tr>\n",
       "    <tr>\n",
       "      <th>2</th>\n",
       "      <td>2020-01-01 08:00</td>\n",
       "      <td>3,60,440</td>\n",
       "    </tr>\n",
       "    <tr>\n",
       "      <th>3</th>\n",
       "      <td>2020-01-01 12:00</td>\n",
       "      <td>3,60,440</td>\n",
       "    </tr>\n",
       "    <tr>\n",
       "      <th>4</th>\n",
       "      <td>2020-01-01 16:00</td>\n",
       "      <td>3,60,440</td>\n",
       "    </tr>\n",
       "    <tr>\n",
       "      <th>...</th>\n",
       "      <td>...</td>\n",
       "      <td>...</td>\n",
       "    </tr>\n",
       "    <tr>\n",
       "      <th>6571</th>\n",
       "      <td>2022-12-31 04:00</td>\n",
       "      <td>4,51,039</td>\n",
       "    </tr>\n",
       "    <tr>\n",
       "      <th>6572</th>\n",
       "      <td>2022-12-31 08:00</td>\n",
       "      <td>4,51,039</td>\n",
       "    </tr>\n",
       "    <tr>\n",
       "      <th>6573</th>\n",
       "      <td>2022-12-31 12:00</td>\n",
       "      <td>4,51,039</td>\n",
       "    </tr>\n",
       "    <tr>\n",
       "      <th>6574</th>\n",
       "      <td>2022-12-31 16:00</td>\n",
       "      <td>4,51,039</td>\n",
       "    </tr>\n",
       "    <tr>\n",
       "      <th>6575</th>\n",
       "      <td>2022-12-31 20:00</td>\n",
       "      <td>4,51,039</td>\n",
       "    </tr>\n",
       "  </tbody>\n",
       "</table>\n",
       "<p>6576 rows × 2 columns</p>\n",
       "</div>"
      ],
      "text/plain": [
       "          Time Periods    PETROL\n",
       "0     2020-01-01 00:00  3,60,440\n",
       "1     2020-01-01 04:00  3,60,440\n",
       "2     2020-01-01 08:00  3,60,440\n",
       "3     2020-01-01 12:00  3,60,440\n",
       "4     2020-01-01 16:00  3,60,440\n",
       "...                ...       ...\n",
       "6571  2022-12-31 04:00  4,51,039\n",
       "6572  2022-12-31 08:00  4,51,039\n",
       "6573  2022-12-31 12:00  4,51,039\n",
       "6574  2022-12-31 16:00  4,51,039\n",
       "6575  2022-12-31 20:00  4,51,039\n",
       "\n",
       "[6576 rows x 2 columns]"
      ]
     },
     "execution_count": 5,
     "metadata": {},
     "output_type": "execute_result"
    }
   ],
   "source": [
    "df[df[\"City\"]==\"Delhi\"][[\"Time Periods\",\"PETROL\"]]"
   ]
  },
  {
   "cell_type": "markdown",
   "id": "c3d9c9cc",
   "metadata": {},
   "source": [
    "## Coverting TimePeriod to Integer"
   ]
  },
  {
   "cell_type": "code",
   "execution_count": 6,
   "id": "5ddb6649",
   "metadata": {},
   "outputs": [],
   "source": [
    "def time_period_in_int(k):\n",
    "    new_list=[]\n",
    "    for i in k:\n",
    "        i=i.replace(\"-\",\"\")\n",
    "        i=i.replace(\":\",\"\")\n",
    "        i=int(i.replace(\" \",\"\"))\n",
    "        new_list.append(i)\n",
    "    return new_list"
   ]
  },
  {
   "cell_type": "code",
   "execution_count": 7,
   "id": "a9dc32ed",
   "metadata": {},
   "outputs": [],
   "source": [
    "df[\"Time Periods\"]=time_period_in_int(df[\"Time Periods\"])"
   ]
  },
  {
   "cell_type": "code",
   "execution_count": 8,
   "id": "cd1e72a7",
   "metadata": {},
   "outputs": [
    {
     "data": {
      "text/plain": [
       "0         202001010000\n",
       "1         202001010400\n",
       "2         202001010800\n",
       "3         202001011200\n",
       "4         202001011600\n",
       "              ...     \n",
       "223579    202212310400\n",
       "223580    202212310800\n",
       "223581    202212311200\n",
       "223582    202212311600\n",
       "223583    202212312000\n",
       "Name: Time Periods, Length: 223584, dtype: int64"
      ]
     },
     "execution_count": 8,
     "metadata": {},
     "output_type": "execute_result"
    }
   ],
   "source": [
    "df[\"Time Periods\"]"
   ]
  },
  {
   "cell_type": "markdown",
   "id": "b43810d8",
   "metadata": {},
   "source": [
    "## Checking NULL Values "
   ]
  },
  {
   "cell_type": "code",
   "execution_count": 9,
   "id": "33d7d31b",
   "metadata": {},
   "outputs": [
    {
     "data": {
      "text/plain": [
       "PM2.5                                                 5540\n",
       "NO                                                    4849\n",
       "NO2                                                   5340\n",
       "NOx                                                   5972\n",
       "NH3                                                   5636\n",
       "SO2                                                   3884\n",
       "CO                                                    3822\n",
       "Ozone                                                 4430\n",
       "Benzene                                               6097\n",
       "Toluene                                              56554\n",
       "Temp                                                172116\n",
       "RH                                                   27211\n",
       "WS                                                    7080\n",
       "WD                                                    5809\n",
       "SR                                                   16383\n",
       "BP                                                   64451\n",
       "AT                                                   21570\n",
       "RF                                                    5931\n",
       "TOT-RF                                                   0\n",
       "VWS                                                 179561\n",
       "Eth-Benzene                                          44297\n",
       "Xylene                                               85753\n",
       "MP-Xylene                                            49322\n",
       "O Xylene                                            100446\n",
       "CH4                                                 217008\n",
       "City                                                     0\n",
       "State                                                    0\n",
       "Population as of 2021 (Estimated)                        0\n",
       "Latitude                                                 0\n",
       "Longitude                                                0\n",
       "Total Length of Roads as of 2019(Km)                     0\n",
       "Length of National Highways as of 2022(Km)               0\n",
       "Railway Route as of 2021(Km)                             0\n",
       "Forest Cover as of 2021(sq Km)                           0\n",
       "Number of Factories as of 2020 (Units)                   0\n",
       "Installed Capacity of Power as of 2022(Megawatt)         0\n",
       "Death Rate as of 2020(Per 1000)                          0\n",
       "CNG ONLY                                             13152\n",
       "DIESEL                                                   0\n",
       "DIESEL/HYBRID                                            0\n",
       "ELECTRIC(BOV)                                            0\n",
       "PETROL                                                   0\n",
       "PETROL/CNG                                               0\n",
       "PETROL/HYBRID                                            0\n",
       "Time Periods                                             0\n",
       "dtype: int64"
      ]
     },
     "execution_count": 9,
     "metadata": {},
     "output_type": "execute_result"
    }
   ],
   "source": [
    "df.isnull().sum()"
   ]
  },
  {
   "cell_type": "code",
   "execution_count": 10,
   "id": "fce7a4d8",
   "metadata": {},
   "outputs": [],
   "source": [
    "df1=df.copy()"
   ]
  },
  {
   "cell_type": "code",
   "execution_count": 11,
   "id": "49cd3c0c",
   "metadata": {},
   "outputs": [],
   "source": [
    "# df1.dropna(subset=[\"Death Rate as of 2020(Per 1000)\",\"O Xylene\",\"MP-Xylene\",\"Xylene\",\"Eth-Benzene\",\"VWS\",\"RF\",\"AT\",\"BP\",\"SR\",\"WD\",\"WS\",\"RH\",\"Temp\",\"Toluene\",\"Benzene\",\"Ozone\",\"CO\",\"SO2\",\"NH3\",\"NOx\",\"NO2\",\"NO\"],axis=0,inplace=True)"
   ]
  },
  {
   "cell_type": "markdown",
   "id": "b42a93e6",
   "metadata": {},
   "source": [
    "## Replacing Null Values with Their Mean or Mode"
   ]
  },
  {
   "cell_type": "code",
   "execution_count": 13,
   "id": "f33c84ec",
   "metadata": {},
   "outputs": [],
   "source": [
    "df1[\"NO\"]=df1[\"NO\"].fillna(df[\"NO\"].mean())\n",
    "df1[\"O Xylene\"]=df1[\"O Xylene\"].fillna(df[\"O Xylene\"].mean())\n",
    "df1[\"MP-Xylene\"]=df1[\"MP-Xylene\"].fillna(df[\"MP-Xylene\"].mean())\n",
    "df1[\"Xylene\"]=df1[\"Xylene\"].fillna(df[\"Xylene\"].mean())\n",
    "df1[\"Eth-Benzene\"]=df1[\"Eth-Benzene\"].fillna(df[\"Eth-Benzene\"].mean())\n",
    "df1[\"VWS\"]=df1[\"VWS\"].fillna(df[\"VWS\"].mean())\n",
    "df1[\"RF\"]=df1[\"RF\"].fillna(df[\"RF\"].mean())\n",
    "df1[\"AT\"]=df1[\"AT\"].fillna(df[\"AT\"].mean())\n",
    "df1[\"BP\"]=df1[\"BP\"].fillna(df[\"BP\"].mean())\n",
    "df1[\"AT\"]=df1[\"AT\"].fillna(df[\"AT\"].mean())\n",
    "df1[\"SR\"]=df1[\"SR\"].fillna(df[\"SR\"].mean())\n",
    "df1[\"WD\"]=df1[\"WD\"].fillna(df[\"WD\"].mean())\n",
    "df1[\"RH\"]=df1[\"RH\"].fillna(df[\"RH\"].mean())\n",
    "df1[\"Temp\"]=df1[\"Temp\"].fillna(df[\"Temp\"].mean())\n",
    "df1[\"Toluene\"]=df1[\"Toluene\"].fillna(df[\"Toluene\"].mean())\n",
    "df1[\"Benzene\"]=df1[\"Benzene\"].fillna(df[\"Benzene\"].mean())\n",
    "df1[\"Ozone\"]=df1[\"Ozone\"].fillna(df[\"Ozone\"].mean())\n",
    "df1[\"CO\"]=df1[\"CO\"].fillna(df[\"CO\"].mean())\n",
    "df1[\"SO2\"]=df1[\"SO2\"].fillna(df[\"SO2\"].mean())\n",
    "df1[\"NH3\"]=df1[\"NH3\"].fillna(df[\"NH3\"].mean())\n",
    "df1[\"NOx\"]=df1[\"NOx\"].fillna(df[\"NOx\"].mean())\n",
    "df1[\"NO2\"]=df1[\"NO2\"].fillna(df[\"NO2\"].mean())\n",
    "df1[\"CH4\"]=df1[\"CH4\"].fillna(df[\"CH4\"].mean())\n",
    "df1[\"CNG ONLY\"]=df1[\"CNG ONLY\"].fillna(df[\"CNG ONLY\"].mode()[0])\n",
    "df1[\"WS\"]=df1[\"WS\"].fillna(df[\"WS\"].mean())"
   ]
  },
  {
   "cell_type": "code",
   "execution_count": 14,
   "id": "5b7d25d0",
   "metadata": {},
   "outputs": [],
   "source": [
    "df1.dropna(subset=[\"PM2.5\"],axis=0,inplace=True)"
   ]
  },
  {
   "cell_type": "code",
   "execution_count": 15,
   "id": "d3007c8e",
   "metadata": {},
   "outputs": [
    {
     "data": {
      "text/plain": [
       "PM2.5                                               0\n",
       "NO                                                  0\n",
       "NO2                                                 0\n",
       "NOx                                                 0\n",
       "NH3                                                 0\n",
       "SO2                                                 0\n",
       "CO                                                  0\n",
       "Ozone                                               0\n",
       "Benzene                                             0\n",
       "Toluene                                             0\n",
       "Temp                                                0\n",
       "RH                                                  0\n",
       "WS                                                  0\n",
       "WD                                                  0\n",
       "SR                                                  0\n",
       "BP                                                  0\n",
       "AT                                                  0\n",
       "RF                                                  0\n",
       "TOT-RF                                              0\n",
       "VWS                                                 0\n",
       "Eth-Benzene                                         0\n",
       "Xylene                                              0\n",
       "MP-Xylene                                           0\n",
       "O Xylene                                            0\n",
       "CH4                                                 0\n",
       "City                                                0\n",
       "State                                               0\n",
       "Population as of 2021 (Estimated)                   0\n",
       "Latitude                                            0\n",
       "Longitude                                           0\n",
       "Total Length of Roads as of 2019(Km)                0\n",
       "Length of National Highways as of 2022(Km)          0\n",
       "Railway Route as of 2021(Km)                        0\n",
       "Forest Cover as of 2021(sq Km)                      0\n",
       "Number of Factories as of 2020 (Units)              0\n",
       "Installed Capacity of Power as of 2022(Megawatt)    0\n",
       "Death Rate as of 2020(Per 1000)                     0\n",
       "CNG ONLY                                            0\n",
       "DIESEL                                              0\n",
       "DIESEL/HYBRID                                       0\n",
       "ELECTRIC(BOV)                                       0\n",
       "PETROL                                              0\n",
       "PETROL/CNG                                          0\n",
       "PETROL/HYBRID                                       0\n",
       "Time Periods                                        0\n",
       "dtype: int64"
      ]
     },
     "execution_count": 15,
     "metadata": {},
     "output_type": "execute_result"
    }
   ],
   "source": [
    "df1.isnull().sum()"
   ]
  },
  {
   "cell_type": "code",
   "execution_count": 16,
   "id": "b728f2b7",
   "metadata": {},
   "outputs": [
    {
     "data": {
      "text/plain": [
       "array(['3,60,440', '3,64,886', '4,51,039', '9,18,369', '10,05,200',\n",
       "       '11,79,336', '22,86,272', '23,94,846', '24,48,577', '3,50,799',\n",
       "       '4,03,742', '4,30,133', '4,69,665', '4,64,575', '5,11,135',\n",
       "       '9,20,988', '8,51,358', '9,61,960', '13,481', '32,360', '50,990',\n",
       "       '5,80,974', '6,88,361', '6,61,533', '41,121', '36,866', '39,323',\n",
       "       '8,87,140', '8,79,347', '9,49,833', '1,64,114', '1,33,332',\n",
       "       '1,32,869', '9,71,787', '8,78,426', '8,79,988', '10,75,347',\n",
       "       '9,65,593', '11,18,194', '10,15,911', '9,59,628', '11,75,578',\n",
       "       '4,20,512', '3,88,563', '4,00,958', '24,440', '28,964', '36,310',\n",
       "       '13,41,945', '13,38,352', '14,42,917', '14,45,085', '15,09,440',\n",
       "       '17,41,675'], dtype=object)"
      ]
     },
     "execution_count": 16,
     "metadata": {},
     "output_type": "execute_result"
    }
   ],
   "source": [
    "df1[\"PETROL\"].unique()"
   ]
  },
  {
   "cell_type": "code",
   "execution_count": 17,
   "id": "e2eba3f8",
   "metadata": {},
   "outputs": [
    {
     "name": "stdout",
     "output_type": "stream",
     "text": [
      "<class 'pandas.core.frame.DataFrame'>\n",
      "Int64Index: 218044 entries, 0 to 223583\n",
      "Data columns (total 45 columns):\n",
      " #   Column                                            Non-Null Count   Dtype  \n",
      "---  ------                                            --------------   -----  \n",
      " 0   PM2.5                                             218044 non-null  float64\n",
      " 1   NO                                                218044 non-null  float64\n",
      " 2   NO2                                               218044 non-null  float64\n",
      " 3   NOx                                               218044 non-null  float64\n",
      " 4   NH3                                               218044 non-null  float64\n",
      " 5   SO2                                               218044 non-null  float64\n",
      " 6   CO                                                218044 non-null  float64\n",
      " 7   Ozone                                             218044 non-null  float64\n",
      " 8   Benzene                                           218044 non-null  float64\n",
      " 9   Toluene                                           218044 non-null  float64\n",
      " 10  Temp                                              218044 non-null  float64\n",
      " 11  RH                                                218044 non-null  float64\n",
      " 12  WS                                                218044 non-null  float64\n",
      " 13  WD                                                218044 non-null  float64\n",
      " 14  SR                                                218044 non-null  float64\n",
      " 15  BP                                                218044 non-null  float64\n",
      " 16  AT                                                218044 non-null  float64\n",
      " 17  RF                                                218044 non-null  float64\n",
      " 18  TOT-RF                                            218044 non-null  float64\n",
      " 19  VWS                                               218044 non-null  float64\n",
      " 20  Eth-Benzene                                       218044 non-null  float64\n",
      " 21  Xylene                                            218044 non-null  float64\n",
      " 22  MP-Xylene                                         218044 non-null  float64\n",
      " 23  O Xylene                                          218044 non-null  float64\n",
      " 24  CH4                                               218044 non-null  float64\n",
      " 25  City                                              218044 non-null  object \n",
      " 26  State                                             218044 non-null  object \n",
      " 27  Population as of 2021 (Estimated)                 218044 non-null  int64  \n",
      " 28  Latitude                                          218044 non-null  float64\n",
      " 29  Longitude                                         218044 non-null  float64\n",
      " 30  Total Length of Roads as of 2019(Km)              218044 non-null  int64  \n",
      " 31  Length of National Highways as of 2022(Km)        218044 non-null  int64  \n",
      " 32  Railway Route as of 2021(Km)                      218044 non-null  int64  \n",
      " 33  Forest Cover as of 2021(sq Km)                    218044 non-null  int64  \n",
      " 34  Number of Factories as of 2020 (Units)            218044 non-null  int64  \n",
      " 35  Installed Capacity of Power as of 2022(Megawatt)  218044 non-null  int64  \n",
      " 36  Death Rate as of 2020(Per 1000)                   218044 non-null  float64\n",
      " 37  CNG ONLY                                          218044 non-null  object \n",
      " 38  DIESEL                                            218044 non-null  object \n",
      " 39  DIESEL/HYBRID                                     218044 non-null  int64  \n",
      " 40  ELECTRIC(BOV)                                     218044 non-null  object \n",
      " 41  PETROL                                            218044 non-null  object \n",
      " 42  PETROL/CNG                                        218044 non-null  object \n",
      " 43  PETROL/HYBRID                                     218044 non-null  object \n",
      " 44  Time Periods                                      218044 non-null  int64  \n",
      "dtypes: float64(28), int64(9), object(8)\n",
      "memory usage: 76.5+ MB\n"
     ]
    }
   ],
   "source": [
    "df1.info()"
   ]
  },
  {
   "cell_type": "markdown",
   "id": "6417dcc6",
   "metadata": {},
   "source": [
    "## Converting Objects to Integers"
   ]
  },
  {
   "cell_type": "code",
   "execution_count": 18,
   "id": "cef2b0da",
   "metadata": {},
   "outputs": [],
   "source": [
    "def string_to_int(k):\n",
    "    new_list = []\n",
    "    for i in k:\n",
    "        if type(i)==str:\n",
    "            i = int(i.replace(\",\", \"\"))\n",
    "        new_list.append(i)\n",
    "    return new_list"
   ]
  },
  {
   "cell_type": "code",
   "execution_count": 19,
   "id": "08f69abf",
   "metadata": {},
   "outputs": [],
   "source": [
    "df1[\"PETROL\"]=string_to_int(df1[\"PETROL\"])"
   ]
  },
  {
   "cell_type": "code",
   "execution_count": 20,
   "id": "2c2e61d5",
   "metadata": {},
   "outputs": [],
   "source": [
    "df1[\"DIESEL\"]=string_to_int(df1[\"DIESEL\"])\n",
    "df1[\"CNG ONLY\"]=string_to_int(df1[\"CNG ONLY\"])\n",
    "df1[\"ELECTRIC(BOV)\"]=string_to_int(df1[\"ELECTRIC(BOV)\"])\n",
    "df1[\"PETROL/CNG\"]=string_to_int(df1[\"PETROL/CNG\"])\n",
    "df1[\"PETROL/HYBRID\"]=string_to_int(df1[\"PETROL/HYBRID\"])"
   ]
  },
  {
   "cell_type": "code",
   "execution_count": 21,
   "id": "613b32a9",
   "metadata": {},
   "outputs": [
    {
     "data": {
      "text/plain": [
       "array(['Delhi', 'Ahmedabad', 'Gandhinagar', 'Lucknow', 'Varanasi',\n",
       "       'Meerut', 'Prayagraj', 'Ghaziabad', 'Agra', 'Noida', 'Kanpur',\n",
       "       'Moradabad', 'Guwahati', 'Faridabad', 'Gurugram', 'Jaipur', 'Kota',\n",
       "       'Imphal', 'Thiruvananthapuram', 'Agartala', 'Gaya', 'Muzaffarpur',\n",
       "       'Patna', 'Srinagar', 'Howrah', 'Kolkata', 'Bhopal', 'Gwalior',\n",
       "       'Bengaluru', 'Raipur', 'Bhilai', 'Chandigarh', 'Chennai', 'Mumbai'],\n",
       "      dtype=object)"
      ]
     },
     "execution_count": 21,
     "metadata": {},
     "output_type": "execute_result"
    }
   ],
   "source": [
    "df1[\"City\"].unique()"
   ]
  },
  {
   "cell_type": "code",
   "execution_count": 23,
   "id": "cd98634f",
   "metadata": {},
   "outputs": [],
   "source": [
    "dummies_city = pd.get_dummies(df1.City)"
   ]
  },
  {
   "cell_type": "code",
   "execution_count": 24,
   "id": "e837bdc6",
   "metadata": {},
   "outputs": [],
   "source": [
    "df2=df1.copy()"
   ]
  },
  {
   "cell_type": "code",
   "execution_count": 25,
   "id": "88d5e8df",
   "metadata": {},
   "outputs": [],
   "source": [
    "df2 = pd.concat([df2, dummies_city], axis='columns')"
   ]
  },
  {
   "cell_type": "code",
   "execution_count": 26,
   "id": "303a4614",
   "metadata": {},
   "outputs": [],
   "source": [
    "# df2 = pd.concat([df2, dummies_state], axis='columns')"
   ]
  },
  {
   "cell_type": "code",
   "execution_count": 27,
   "id": "efc99fc7",
   "metadata": {},
   "outputs": [],
   "source": [
    "df2.drop(['State', 'City'], axis='columns',inplace=True)"
   ]
  },
  {
   "cell_type": "code",
   "execution_count": 28,
   "id": "f13042a1",
   "metadata": {},
   "outputs": [],
   "source": [
    "y1=df2[[\"NO\",\"NO2\",\"NOx\",\"NH3\",\"SO2\",\"CO\",\"Ozone\",\"Benzene\",\"Toluene\",\"Temp\",\"RH\",\"WS\",\"WD\",\"SR\",\"BP\",\"AT\",\"RF\",\"TOT-RF\",\"VWS\",\"Eth-Benzene\",\"Xylene\",\"MP-Xylene\",\"O Xylene\",\"CH4\",\"Population as of 2021 (Estimated)\",\"Latitude\",\"Longitude\",\"Total Length of Roads as of 2019(Km)\",\"Length of National Highways as of 2022(Km)\",\"Length of National Highways as of 2022(Km)\",\"Railway Route as of 2021(Km)\",\"Forest Cover as of 2021(sq Km)\",\"Number of Factories as of 2020 (Units)\",\"Installed Capacity of Power as of 2022(Megawatt)\",\"Death Rate as of 2020(Per 1000)\",\"CNG ONLY\",\"DIESEL\",\"DIESEL/HYBRID\",\"ELECTRIC(BOV)\",\"PETROL\",\"PETROL/CNG\",\"PETROL/HYBRID\"]]"
   ]
  },
  {
   "cell_type": "code",
   "execution_count": 29,
   "id": "c1b06dd0",
   "metadata": {},
   "outputs": [
    {
     "data": {
      "text/html": [
       "<div>\n",
       "<style scoped>\n",
       "    .dataframe tbody tr th:only-of-type {\n",
       "        vertical-align: middle;\n",
       "    }\n",
       "\n",
       "    .dataframe tbody tr th {\n",
       "        vertical-align: top;\n",
       "    }\n",
       "\n",
       "    .dataframe thead th {\n",
       "        text-align: right;\n",
       "    }\n",
       "</style>\n",
       "<table border=\"1\" class=\"dataframe\">\n",
       "  <thead>\n",
       "    <tr style=\"text-align: right;\">\n",
       "      <th></th>\n",
       "      <th>NO</th>\n",
       "      <th>NO2</th>\n",
       "      <th>NOx</th>\n",
       "      <th>NH3</th>\n",
       "      <th>SO2</th>\n",
       "      <th>CO</th>\n",
       "      <th>Ozone</th>\n",
       "      <th>Benzene</th>\n",
       "      <th>Toluene</th>\n",
       "      <th>Temp</th>\n",
       "      <th>...</th>\n",
       "      <th>Number of Factories as of 2020 (Units)</th>\n",
       "      <th>Installed Capacity of Power as of 2022(Megawatt)</th>\n",
       "      <th>Death Rate as of 2020(Per 1000)</th>\n",
       "      <th>CNG ONLY</th>\n",
       "      <th>DIESEL</th>\n",
       "      <th>DIESEL/HYBRID</th>\n",
       "      <th>ELECTRIC(BOV)</th>\n",
       "      <th>PETROL</th>\n",
       "      <th>PETROL/CNG</th>\n",
       "      <th>PETROL/HYBRID</th>\n",
       "    </tr>\n",
       "  </thead>\n",
       "  <tbody>\n",
       "    <tr>\n",
       "      <th>0</th>\n",
       "      <td>181.010975</td>\n",
       "      <td>91.247522</td>\n",
       "      <td>188.364425</td>\n",
       "      <td>79.707417</td>\n",
       "      <td>10.175812</td>\n",
       "      <td>3.520142</td>\n",
       "      <td>23.411029</td>\n",
       "      <td>3.730146</td>\n",
       "      <td>19.040600</td>\n",
       "      <td>7.75</td>\n",
       "      <td>...</td>\n",
       "      <td>3259</td>\n",
       "      <td>7617</td>\n",
       "      <td>3.6</td>\n",
       "      <td>13968</td>\n",
       "      <td>10528</td>\n",
       "      <td>32</td>\n",
       "      <td>12379</td>\n",
       "      <td>360440</td>\n",
       "      <td>21424</td>\n",
       "      <td>5313</td>\n",
       "    </tr>\n",
       "    <tr>\n",
       "      <th>1</th>\n",
       "      <td>194.247049</td>\n",
       "      <td>79.661701</td>\n",
       "      <td>203.481853</td>\n",
       "      <td>66.258913</td>\n",
       "      <td>11.615925</td>\n",
       "      <td>3.464807</td>\n",
       "      <td>29.331609</td>\n",
       "      <td>9.827428</td>\n",
       "      <td>19.040600</td>\n",
       "      <td>7.49</td>\n",
       "      <td>...</td>\n",
       "      <td>3259</td>\n",
       "      <td>7617</td>\n",
       "      <td>3.6</td>\n",
       "      <td>13968</td>\n",
       "      <td>10528</td>\n",
       "      <td>32</td>\n",
       "      <td>12379</td>\n",
       "      <td>360440</td>\n",
       "      <td>21424</td>\n",
       "      <td>5313</td>\n",
       "    </tr>\n",
       "    <tr>\n",
       "      <th>2</th>\n",
       "      <td>112.499494</td>\n",
       "      <td>121.740909</td>\n",
       "      <td>153.914993</td>\n",
       "      <td>74.356791</td>\n",
       "      <td>10.590183</td>\n",
       "      <td>2.460498</td>\n",
       "      <td>30.172308</td>\n",
       "      <td>9.085975</td>\n",
       "      <td>19.040600</td>\n",
       "      <td>9.45</td>\n",
       "      <td>...</td>\n",
       "      <td>3259</td>\n",
       "      <td>7617</td>\n",
       "      <td>3.6</td>\n",
       "      <td>13968</td>\n",
       "      <td>10528</td>\n",
       "      <td>32</td>\n",
       "      <td>12379</td>\n",
       "      <td>360440</td>\n",
       "      <td>21424</td>\n",
       "      <td>5313</td>\n",
       "    </tr>\n",
       "    <tr>\n",
       "      <th>3</th>\n",
       "      <td>56.922094</td>\n",
       "      <td>114.142207</td>\n",
       "      <td>91.504524</td>\n",
       "      <td>26.234892</td>\n",
       "      <td>12.217971</td>\n",
       "      <td>1.405930</td>\n",
       "      <td>30.493537</td>\n",
       "      <td>3.884649</td>\n",
       "      <td>104.475114</td>\n",
       "      <td>11.32</td>\n",
       "      <td>...</td>\n",
       "      <td>3259</td>\n",
       "      <td>7617</td>\n",
       "      <td>3.6</td>\n",
       "      <td>13968</td>\n",
       "      <td>10528</td>\n",
       "      <td>32</td>\n",
       "      <td>12379</td>\n",
       "      <td>360440</td>\n",
       "      <td>21424</td>\n",
       "      <td>5313</td>\n",
       "    </tr>\n",
       "    <tr>\n",
       "      <th>4</th>\n",
       "      <td>77.363086</td>\n",
       "      <td>123.790340</td>\n",
       "      <td>117.065760</td>\n",
       "      <td>26.234892</td>\n",
       "      <td>13.331616</td>\n",
       "      <td>2.692100</td>\n",
       "      <td>18.045684</td>\n",
       "      <td>5.605006</td>\n",
       "      <td>96.718827</td>\n",
       "      <td>10.22</td>\n",
       "      <td>...</td>\n",
       "      <td>3259</td>\n",
       "      <td>7617</td>\n",
       "      <td>3.6</td>\n",
       "      <td>13968</td>\n",
       "      <td>10528</td>\n",
       "      <td>32</td>\n",
       "      <td>12379</td>\n",
       "      <td>360440</td>\n",
       "      <td>21424</td>\n",
       "      <td>5313</td>\n",
       "    </tr>\n",
       "  </tbody>\n",
       "</table>\n",
       "<p>5 rows × 42 columns</p>\n",
       "</div>"
      ],
      "text/plain": [
       "           NO         NO2         NOx        NH3        SO2        CO  \\\n",
       "0  181.010975   91.247522  188.364425  79.707417  10.175812  3.520142   \n",
       "1  194.247049   79.661701  203.481853  66.258913  11.615925  3.464807   \n",
       "2  112.499494  121.740909  153.914993  74.356791  10.590183  2.460498   \n",
       "3   56.922094  114.142207   91.504524  26.234892  12.217971  1.405930   \n",
       "4   77.363086  123.790340  117.065760  26.234892  13.331616  2.692100   \n",
       "\n",
       "       Ozone   Benzene     Toluene   Temp  ...  \\\n",
       "0  23.411029  3.730146   19.040600   7.75  ...   \n",
       "1  29.331609  9.827428   19.040600   7.49  ...   \n",
       "2  30.172308  9.085975   19.040600   9.45  ...   \n",
       "3  30.493537  3.884649  104.475114  11.32  ...   \n",
       "4  18.045684  5.605006   96.718827  10.22  ...   \n",
       "\n",
       "   Number of Factories as of 2020 (Units)  \\\n",
       "0                                    3259   \n",
       "1                                    3259   \n",
       "2                                    3259   \n",
       "3                                    3259   \n",
       "4                                    3259   \n",
       "\n",
       "   Installed Capacity of Power as of 2022(Megawatt)  \\\n",
       "0                                              7617   \n",
       "1                                              7617   \n",
       "2                                              7617   \n",
       "3                                              7617   \n",
       "4                                              7617   \n",
       "\n",
       "   Death Rate as of 2020(Per 1000)  CNG ONLY  DIESEL  DIESEL/HYBRID  \\\n",
       "0                              3.6     13968   10528             32   \n",
       "1                              3.6     13968   10528             32   \n",
       "2                              3.6     13968   10528             32   \n",
       "3                              3.6     13968   10528             32   \n",
       "4                              3.6     13968   10528             32   \n",
       "\n",
       "   ELECTRIC(BOV)  PETROL  PETROL/CNG  PETROL/HYBRID  \n",
       "0          12379  360440       21424           5313  \n",
       "1          12379  360440       21424           5313  \n",
       "2          12379  360440       21424           5313  \n",
       "3          12379  360440       21424           5313  \n",
       "4          12379  360440       21424           5313  \n",
       "\n",
       "[5 rows x 42 columns]"
      ]
     },
     "execution_count": 29,
     "metadata": {},
     "output_type": "execute_result"
    }
   ],
   "source": [
    "y1.head()"
   ]
  },
  {
   "cell_type": "code",
   "execution_count": 30,
   "id": "b7728758",
   "metadata": {},
   "outputs": [],
   "source": [
    "x1=df2.drop([\"PM2.5\",\"NO\",\"NO2\",\"NOx\",\"NH3\",\"SO2\",\"CO\",\"Ozone\",\"Benzene\",\"Toluene\",\"Temp\",\"RH\",\"WS\",\"WD\",\"SR\",\"BP\",\"AT\",\"RF\",\"TOT-RF\",\"VWS\",\"Eth-Benzene\",\"Xylene\",\"MP-Xylene\",\"O Xylene\",\"CH4\",\"Population as of 2021 (Estimated)\",\"Latitude\",\"Longitude\",\"Total Length of Roads as of 2019(Km)\",\"Length of National Highways as of 2022(Km)\",\"Length of National Highways as of 2022(Km)\",\"Railway Route as of 2021(Km)\",\"Forest Cover as of 2021(sq Km)\",\"Number of Factories as of 2020 (Units)\",\"Installed Capacity of Power as of 2022(Megawatt)\",\"Death Rate as of 2020(Per 1000)\",\"CNG ONLY\",\"DIESEL\",\"DIESEL/HYBRID\",\"ELECTRIC(BOV)\",\"PETROL\",\"PETROL/CNG\",\"PETROL/HYBRID\"],axis=\"columns\")"
   ]
  },
  {
   "cell_type": "code",
   "execution_count": 31,
   "id": "642e111b",
   "metadata": {},
   "outputs": [
    {
     "data": {
      "text/html": [
       "<div>\n",
       "<style scoped>\n",
       "    .dataframe tbody tr th:only-of-type {\n",
       "        vertical-align: middle;\n",
       "    }\n",
       "\n",
       "    .dataframe tbody tr th {\n",
       "        vertical-align: top;\n",
       "    }\n",
       "\n",
       "    .dataframe thead th {\n",
       "        text-align: right;\n",
       "    }\n",
       "</style>\n",
       "<table border=\"1\" class=\"dataframe\">\n",
       "  <thead>\n",
       "    <tr style=\"text-align: right;\">\n",
       "      <th></th>\n",
       "      <th>Time Periods</th>\n",
       "      <th>Agartala</th>\n",
       "      <th>Agra</th>\n",
       "      <th>Ahmedabad</th>\n",
       "      <th>Bengaluru</th>\n",
       "      <th>Bhilai</th>\n",
       "      <th>Bhopal</th>\n",
       "      <th>Chandigarh</th>\n",
       "      <th>Chennai</th>\n",
       "      <th>Delhi</th>\n",
       "      <th>...</th>\n",
       "      <th>Moradabad</th>\n",
       "      <th>Mumbai</th>\n",
       "      <th>Muzaffarpur</th>\n",
       "      <th>Noida</th>\n",
       "      <th>Patna</th>\n",
       "      <th>Prayagraj</th>\n",
       "      <th>Raipur</th>\n",
       "      <th>Srinagar</th>\n",
       "      <th>Thiruvananthapuram</th>\n",
       "      <th>Varanasi</th>\n",
       "    </tr>\n",
       "  </thead>\n",
       "  <tbody>\n",
       "    <tr>\n",
       "      <th>0</th>\n",
       "      <td>202001010000</td>\n",
       "      <td>0</td>\n",
       "      <td>0</td>\n",
       "      <td>0</td>\n",
       "      <td>0</td>\n",
       "      <td>0</td>\n",
       "      <td>0</td>\n",
       "      <td>0</td>\n",
       "      <td>0</td>\n",
       "      <td>1</td>\n",
       "      <td>...</td>\n",
       "      <td>0</td>\n",
       "      <td>0</td>\n",
       "      <td>0</td>\n",
       "      <td>0</td>\n",
       "      <td>0</td>\n",
       "      <td>0</td>\n",
       "      <td>0</td>\n",
       "      <td>0</td>\n",
       "      <td>0</td>\n",
       "      <td>0</td>\n",
       "    </tr>\n",
       "    <tr>\n",
       "      <th>1</th>\n",
       "      <td>202001010400</td>\n",
       "      <td>0</td>\n",
       "      <td>0</td>\n",
       "      <td>0</td>\n",
       "      <td>0</td>\n",
       "      <td>0</td>\n",
       "      <td>0</td>\n",
       "      <td>0</td>\n",
       "      <td>0</td>\n",
       "      <td>1</td>\n",
       "      <td>...</td>\n",
       "      <td>0</td>\n",
       "      <td>0</td>\n",
       "      <td>0</td>\n",
       "      <td>0</td>\n",
       "      <td>0</td>\n",
       "      <td>0</td>\n",
       "      <td>0</td>\n",
       "      <td>0</td>\n",
       "      <td>0</td>\n",
       "      <td>0</td>\n",
       "    </tr>\n",
       "    <tr>\n",
       "      <th>2</th>\n",
       "      <td>202001010800</td>\n",
       "      <td>0</td>\n",
       "      <td>0</td>\n",
       "      <td>0</td>\n",
       "      <td>0</td>\n",
       "      <td>0</td>\n",
       "      <td>0</td>\n",
       "      <td>0</td>\n",
       "      <td>0</td>\n",
       "      <td>1</td>\n",
       "      <td>...</td>\n",
       "      <td>0</td>\n",
       "      <td>0</td>\n",
       "      <td>0</td>\n",
       "      <td>0</td>\n",
       "      <td>0</td>\n",
       "      <td>0</td>\n",
       "      <td>0</td>\n",
       "      <td>0</td>\n",
       "      <td>0</td>\n",
       "      <td>0</td>\n",
       "    </tr>\n",
       "    <tr>\n",
       "      <th>3</th>\n",
       "      <td>202001011200</td>\n",
       "      <td>0</td>\n",
       "      <td>0</td>\n",
       "      <td>0</td>\n",
       "      <td>0</td>\n",
       "      <td>0</td>\n",
       "      <td>0</td>\n",
       "      <td>0</td>\n",
       "      <td>0</td>\n",
       "      <td>1</td>\n",
       "      <td>...</td>\n",
       "      <td>0</td>\n",
       "      <td>0</td>\n",
       "      <td>0</td>\n",
       "      <td>0</td>\n",
       "      <td>0</td>\n",
       "      <td>0</td>\n",
       "      <td>0</td>\n",
       "      <td>0</td>\n",
       "      <td>0</td>\n",
       "      <td>0</td>\n",
       "    </tr>\n",
       "    <tr>\n",
       "      <th>4</th>\n",
       "      <td>202001011600</td>\n",
       "      <td>0</td>\n",
       "      <td>0</td>\n",
       "      <td>0</td>\n",
       "      <td>0</td>\n",
       "      <td>0</td>\n",
       "      <td>0</td>\n",
       "      <td>0</td>\n",
       "      <td>0</td>\n",
       "      <td>1</td>\n",
       "      <td>...</td>\n",
       "      <td>0</td>\n",
       "      <td>0</td>\n",
       "      <td>0</td>\n",
       "      <td>0</td>\n",
       "      <td>0</td>\n",
       "      <td>0</td>\n",
       "      <td>0</td>\n",
       "      <td>0</td>\n",
       "      <td>0</td>\n",
       "      <td>0</td>\n",
       "    </tr>\n",
       "  </tbody>\n",
       "</table>\n",
       "<p>5 rows × 35 columns</p>\n",
       "</div>"
      ],
      "text/plain": [
       "   Time Periods  Agartala  Agra  Ahmedabad  Bengaluru  Bhilai  Bhopal  \\\n",
       "0  202001010000         0     0          0          0       0       0   \n",
       "1  202001010400         0     0          0          0       0       0   \n",
       "2  202001010800         0     0          0          0       0       0   \n",
       "3  202001011200         0     0          0          0       0       0   \n",
       "4  202001011600         0     0          0          0       0       0   \n",
       "\n",
       "   Chandigarh  Chennai  Delhi  ...  Moradabad  Mumbai  Muzaffarpur  Noida  \\\n",
       "0           0        0      1  ...          0       0            0      0   \n",
       "1           0        0      1  ...          0       0            0      0   \n",
       "2           0        0      1  ...          0       0            0      0   \n",
       "3           0        0      1  ...          0       0            0      0   \n",
       "4           0        0      1  ...          0       0            0      0   \n",
       "\n",
       "   Patna  Prayagraj  Raipur  Srinagar  Thiruvananthapuram  Varanasi  \n",
       "0      0          0       0         0                   0         0  \n",
       "1      0          0       0         0                   0         0  \n",
       "2      0          0       0         0                   0         0  \n",
       "3      0          0       0         0                   0         0  \n",
       "4      0          0       0         0                   0         0  \n",
       "\n",
       "[5 rows x 35 columns]"
      ]
     },
     "execution_count": 31,
     "metadata": {},
     "output_type": "execute_result"
    }
   ],
   "source": [
    "x1.head()"
   ]
  },
  {
   "cell_type": "markdown",
   "id": "6ff62bf6",
   "metadata": {},
   "source": [
    "## Creating Model for Predicting (NO,NO2,.....)"
   ]
  },
  {
   "cell_type": "code",
   "execution_count": 32,
   "id": "be2cb881",
   "metadata": {},
   "outputs": [],
   "source": [
    "from sklearn.datasets import make_regression\n",
    "from sklearn.multioutput import MultiOutputRegressor\n",
    "from sklearn.ensemble import GradientBoostingRegressor"
   ]
  },
  {
   "cell_type": "code",
   "execution_count": 33,
   "id": "434bbe44",
   "metadata": {},
   "outputs": [],
   "source": [
    "model = MultiOutputRegressor(GradientBoostingRegressor(random_state=20))"
   ]
  },
  {
   "cell_type": "code",
   "execution_count": 34,
   "id": "a1f76774",
   "metadata": {},
   "outputs": [
    {
     "data": {
      "text/plain": [
       "MultiOutputRegressor(estimator=GradientBoostingRegressor(random_state=20))"
      ]
     },
     "execution_count": 34,
     "metadata": {},
     "output_type": "execute_result"
    }
   ],
   "source": [
    "model.fit(x1, y1)"
   ]
  },
  {
   "cell_type": "code",
   "execution_count": 35,
   "id": "247ef85a",
   "metadata": {},
   "outputs": [],
   "source": [
    "# import pickle\n",
    "\n",
    "# # Save the model to disk\n",
    "# filename = 'multi_output_regression_model2.sav'\n",
    "# pickle.dump(model, open(filename, 'wb'))"
   ]
  },
  {
   "cell_type": "code",
   "execution_count": 37,
   "id": "f372ade6",
   "metadata": {},
   "outputs": [],
   "source": [
    "import pickle\n",
    "filename = 'multi_output_regression_model2.sav'\n",
    "loaded_model = pickle.load(open(filename, 'rb'))"
   ]
  },
  {
   "cell_type": "code",
   "execution_count": 38,
   "id": "777aaee4",
   "metadata": {},
   "outputs": [],
   "source": [
    "y_pred_all=loaded_model.predict(x1)"
   ]
  },
  {
   "cell_type": "code",
   "execution_count": 39,
   "id": "f30054d2",
   "metadata": {},
   "outputs": [
    {
     "data": {
      "text/plain": [
       "0.7547483001420963"
      ]
     },
     "execution_count": 39,
     "metadata": {},
     "output_type": "execute_result"
    }
   ],
   "source": [
    "loaded_model.score(x1,y1) "
   ]
  },
  {
   "cell_type": "code",
   "execution_count": 40,
   "id": "fed90be4",
   "metadata": {},
   "outputs": [
    {
     "data": {
      "text/plain": [
       "array([[5.96188830e+01, 8.35075111e+01, 7.69772998e+01, ...,\n",
       "        5.59727930e+05, 1.86206805e+04, 4.60624482e+03],\n",
       "       [5.96188830e+01, 8.35075111e+01, 7.69772998e+01, ...,\n",
       "        5.59727930e+05, 1.86206805e+04, 4.60624482e+03],\n",
       "       [5.96188830e+01, 8.35075111e+01, 7.69772998e+01, ...,\n",
       "        5.59727930e+05, 1.86206805e+04, 4.60624482e+03],\n",
       "       ...,\n",
       "       [3.34046962e+01, 4.24819403e+01, 7.09679122e+01, ...,\n",
       "        1.46932616e+06, 9.85192200e+04, 1.98232432e+04],\n",
       "       [3.34046962e+01, 4.24819403e+01, 7.09679122e+01, ...,\n",
       "        1.46932616e+06, 9.85192200e+04, 1.98232432e+04],\n",
       "       [3.34046962e+01, 4.24819403e+01, 7.09679122e+01, ...,\n",
       "        1.46932616e+06, 9.85192200e+04, 1.98232432e+04]])"
      ]
     },
     "execution_count": 40,
     "metadata": {},
     "output_type": "execute_result"
    }
   ],
   "source": [
    "y_pred_all"
   ]
  },
  {
   "cell_type": "code",
   "execution_count": 41,
   "id": "058c1bba",
   "metadata": {},
   "outputs": [],
   "source": [
    "df_to_conact=pd.DataFrame(y_pred_all,columns=[\"NO\",\"NO2\",\"NOx\",\"NH3\",\"SO2\",\"CO\",\"Ozone\",\"Benzene\",\"Toluene\",\"Temp\",\"RH\",\"WS\",\"WD\",\"SR\",\"BP\",\"AT\",\"RF\",\"TOT-RF\",\"VWS\",\"Eth-Benzene\",\"Xylene\",\"MP-Xylene\",\"O Xylene\",\"CH4\",\"Population as of 2021 (Estimated)\",\"Latitude\",\"Longitude\",\"Total Length of Roads as of 2019(Km)\",\"Length of National Highways as of 2022(Km)\",\"Length of National Highways as of 2022(Km)\",\"Railway Route as of 2021(Km)\",\"Forest Cover as of 2021(sq Km)\",\"Number of Factories as of 2020 (Units)\",\"Installed Capacity of Power as of 2022(Megawatt)\",\"Death Rate as of 2020(Per 1000)\",\"CNG ONLY\",\"DIESEL\",\"DIESEL/HYBRID\",\"ELECTRIC(BOV)\",\"PETROL\",\"PETROL/CNG\",\"PETROL/HYBRID\"])"
   ]
  },
  {
   "cell_type": "code",
   "execution_count": 42,
   "id": "0274942d",
   "metadata": {},
   "outputs": [
    {
     "data": {
      "text/html": [
       "<div>\n",
       "<style scoped>\n",
       "    .dataframe tbody tr th:only-of-type {\n",
       "        vertical-align: middle;\n",
       "    }\n",
       "\n",
       "    .dataframe tbody tr th {\n",
       "        vertical-align: top;\n",
       "    }\n",
       "\n",
       "    .dataframe thead th {\n",
       "        text-align: right;\n",
       "    }\n",
       "</style>\n",
       "<table border=\"1\" class=\"dataframe\">\n",
       "  <thead>\n",
       "    <tr style=\"text-align: right;\">\n",
       "      <th></th>\n",
       "      <th>NO</th>\n",
       "      <th>NO2</th>\n",
       "      <th>NOx</th>\n",
       "      <th>NH3</th>\n",
       "      <th>SO2</th>\n",
       "      <th>CO</th>\n",
       "      <th>Ozone</th>\n",
       "      <th>Benzene</th>\n",
       "      <th>Toluene</th>\n",
       "      <th>Temp</th>\n",
       "      <th>...</th>\n",
       "      <th>Number of Factories as of 2020 (Units)</th>\n",
       "      <th>Installed Capacity of Power as of 2022(Megawatt)</th>\n",
       "      <th>Death Rate as of 2020(Per 1000)</th>\n",
       "      <th>CNG ONLY</th>\n",
       "      <th>DIESEL</th>\n",
       "      <th>DIESEL/HYBRID</th>\n",
       "      <th>ELECTRIC(BOV)</th>\n",
       "      <th>PETROL</th>\n",
       "      <th>PETROL/CNG</th>\n",
       "      <th>PETROL/HYBRID</th>\n",
       "    </tr>\n",
       "  </thead>\n",
       "  <tbody>\n",
       "    <tr>\n",
       "      <th>0</th>\n",
       "      <td>59.618883</td>\n",
       "      <td>83.507511</td>\n",
       "      <td>76.9773</td>\n",
       "      <td>37.579752</td>\n",
       "      <td>11.100035</td>\n",
       "      <td>1.675044</td>\n",
       "      <td>31.228538</td>\n",
       "      <td>3.374878</td>\n",
       "      <td>45.186428</td>\n",
       "      <td>16.818658</td>\n",
       "      <td>...</td>\n",
       "      <td>5379.893904</td>\n",
       "      <td>11721.349976</td>\n",
       "      <td>3.79846</td>\n",
       "      <td>14426.957289</td>\n",
       "      <td>36221.439019</td>\n",
       "      <td>74.306931</td>\n",
       "      <td>9127.78167</td>\n",
       "      <td>559727.930107</td>\n",
       "      <td>18620.680512</td>\n",
       "      <td>4606.244821</td>\n",
       "    </tr>\n",
       "    <tr>\n",
       "      <th>1</th>\n",
       "      <td>59.618883</td>\n",
       "      <td>83.507511</td>\n",
       "      <td>76.9773</td>\n",
       "      <td>37.579752</td>\n",
       "      <td>11.100035</td>\n",
       "      <td>1.675044</td>\n",
       "      <td>31.228538</td>\n",
       "      <td>3.374878</td>\n",
       "      <td>45.186428</td>\n",
       "      <td>16.818658</td>\n",
       "      <td>...</td>\n",
       "      <td>5379.893904</td>\n",
       "      <td>11721.349976</td>\n",
       "      <td>3.79846</td>\n",
       "      <td>14426.957289</td>\n",
       "      <td>36221.439019</td>\n",
       "      <td>74.306931</td>\n",
       "      <td>9127.78167</td>\n",
       "      <td>559727.930107</td>\n",
       "      <td>18620.680512</td>\n",
       "      <td>4606.244821</td>\n",
       "    </tr>\n",
       "    <tr>\n",
       "      <th>2</th>\n",
       "      <td>59.618883</td>\n",
       "      <td>83.507511</td>\n",
       "      <td>76.9773</td>\n",
       "      <td>37.579752</td>\n",
       "      <td>11.100035</td>\n",
       "      <td>1.675044</td>\n",
       "      <td>31.228538</td>\n",
       "      <td>3.374878</td>\n",
       "      <td>45.186428</td>\n",
       "      <td>16.818658</td>\n",
       "      <td>...</td>\n",
       "      <td>5379.893904</td>\n",
       "      <td>11721.349976</td>\n",
       "      <td>3.79846</td>\n",
       "      <td>14426.957289</td>\n",
       "      <td>36221.439019</td>\n",
       "      <td>74.306931</td>\n",
       "      <td>9127.78167</td>\n",
       "      <td>559727.930107</td>\n",
       "      <td>18620.680512</td>\n",
       "      <td>4606.244821</td>\n",
       "    </tr>\n",
       "    <tr>\n",
       "      <th>3</th>\n",
       "      <td>59.618883</td>\n",
       "      <td>83.507511</td>\n",
       "      <td>76.9773</td>\n",
       "      <td>37.579752</td>\n",
       "      <td>11.100035</td>\n",
       "      <td>1.675044</td>\n",
       "      <td>31.228538</td>\n",
       "      <td>3.374878</td>\n",
       "      <td>45.186428</td>\n",
       "      <td>16.818658</td>\n",
       "      <td>...</td>\n",
       "      <td>5379.893904</td>\n",
       "      <td>11721.349976</td>\n",
       "      <td>3.79846</td>\n",
       "      <td>14426.957289</td>\n",
       "      <td>36221.439019</td>\n",
       "      <td>74.306931</td>\n",
       "      <td>9127.78167</td>\n",
       "      <td>559727.930107</td>\n",
       "      <td>18620.680512</td>\n",
       "      <td>4606.244821</td>\n",
       "    </tr>\n",
       "    <tr>\n",
       "      <th>4</th>\n",
       "      <td>59.618883</td>\n",
       "      <td>83.507511</td>\n",
       "      <td>76.9773</td>\n",
       "      <td>37.579752</td>\n",
       "      <td>11.100035</td>\n",
       "      <td>1.675044</td>\n",
       "      <td>31.228538</td>\n",
       "      <td>3.374878</td>\n",
       "      <td>45.186428</td>\n",
       "      <td>16.818658</td>\n",
       "      <td>...</td>\n",
       "      <td>5379.893904</td>\n",
       "      <td>11721.349976</td>\n",
       "      <td>3.79846</td>\n",
       "      <td>14426.957289</td>\n",
       "      <td>36221.439019</td>\n",
       "      <td>74.306931</td>\n",
       "      <td>9127.78167</td>\n",
       "      <td>559727.930107</td>\n",
       "      <td>18620.680512</td>\n",
       "      <td>4606.244821</td>\n",
       "    </tr>\n",
       "  </tbody>\n",
       "</table>\n",
       "<p>5 rows × 42 columns</p>\n",
       "</div>"
      ],
      "text/plain": [
       "          NO        NO2      NOx        NH3        SO2        CO      Ozone  \\\n",
       "0  59.618883  83.507511  76.9773  37.579752  11.100035  1.675044  31.228538   \n",
       "1  59.618883  83.507511  76.9773  37.579752  11.100035  1.675044  31.228538   \n",
       "2  59.618883  83.507511  76.9773  37.579752  11.100035  1.675044  31.228538   \n",
       "3  59.618883  83.507511  76.9773  37.579752  11.100035  1.675044  31.228538   \n",
       "4  59.618883  83.507511  76.9773  37.579752  11.100035  1.675044  31.228538   \n",
       "\n",
       "    Benzene    Toluene       Temp  ...  \\\n",
       "0  3.374878  45.186428  16.818658  ...   \n",
       "1  3.374878  45.186428  16.818658  ...   \n",
       "2  3.374878  45.186428  16.818658  ...   \n",
       "3  3.374878  45.186428  16.818658  ...   \n",
       "4  3.374878  45.186428  16.818658  ...   \n",
       "\n",
       "   Number of Factories as of 2020 (Units)  \\\n",
       "0                             5379.893904   \n",
       "1                             5379.893904   \n",
       "2                             5379.893904   \n",
       "3                             5379.893904   \n",
       "4                             5379.893904   \n",
       "\n",
       "   Installed Capacity of Power as of 2022(Megawatt)  \\\n",
       "0                                      11721.349976   \n",
       "1                                      11721.349976   \n",
       "2                                      11721.349976   \n",
       "3                                      11721.349976   \n",
       "4                                      11721.349976   \n",
       "\n",
       "   Death Rate as of 2020(Per 1000)      CNG ONLY        DIESEL  DIESEL/HYBRID  \\\n",
       "0                          3.79846  14426.957289  36221.439019      74.306931   \n",
       "1                          3.79846  14426.957289  36221.439019      74.306931   \n",
       "2                          3.79846  14426.957289  36221.439019      74.306931   \n",
       "3                          3.79846  14426.957289  36221.439019      74.306931   \n",
       "4                          3.79846  14426.957289  36221.439019      74.306931   \n",
       "\n",
       "   ELECTRIC(BOV)         PETROL    PETROL/CNG  PETROL/HYBRID  \n",
       "0     9127.78167  559727.930107  18620.680512    4606.244821  \n",
       "1     9127.78167  559727.930107  18620.680512    4606.244821  \n",
       "2     9127.78167  559727.930107  18620.680512    4606.244821  \n",
       "3     9127.78167  559727.930107  18620.680512    4606.244821  \n",
       "4     9127.78167  559727.930107  18620.680512    4606.244821  \n",
       "\n",
       "[5 rows x 42 columns]"
      ]
     },
     "execution_count": 42,
     "metadata": {},
     "output_type": "execute_result"
    }
   ],
   "source": [
    "df_to_conact.head()"
   ]
  },
  {
   "cell_type": "code",
   "execution_count": 43,
   "id": "06328d77",
   "metadata": {},
   "outputs": [
    {
     "data": {
      "text/html": [
       "<div>\n",
       "<style scoped>\n",
       "    .dataframe tbody tr th:only-of-type {\n",
       "        vertical-align: middle;\n",
       "    }\n",
       "\n",
       "    .dataframe tbody tr th {\n",
       "        vertical-align: top;\n",
       "    }\n",
       "\n",
       "    .dataframe thead th {\n",
       "        text-align: right;\n",
       "    }\n",
       "</style>\n",
       "<table border=\"1\" class=\"dataframe\">\n",
       "  <thead>\n",
       "    <tr style=\"text-align: right;\">\n",
       "      <th></th>\n",
       "      <th>Time Periods</th>\n",
       "      <th>Agartala</th>\n",
       "      <th>Agra</th>\n",
       "      <th>Ahmedabad</th>\n",
       "      <th>Bengaluru</th>\n",
       "      <th>Bhilai</th>\n",
       "      <th>Bhopal</th>\n",
       "      <th>Chandigarh</th>\n",
       "      <th>Chennai</th>\n",
       "      <th>Delhi</th>\n",
       "      <th>...</th>\n",
       "      <th>Moradabad</th>\n",
       "      <th>Mumbai</th>\n",
       "      <th>Muzaffarpur</th>\n",
       "      <th>Noida</th>\n",
       "      <th>Patna</th>\n",
       "      <th>Prayagraj</th>\n",
       "      <th>Raipur</th>\n",
       "      <th>Srinagar</th>\n",
       "      <th>Thiruvananthapuram</th>\n",
       "      <th>Varanasi</th>\n",
       "    </tr>\n",
       "  </thead>\n",
       "  <tbody>\n",
       "    <tr>\n",
       "      <th>0</th>\n",
       "      <td>202001010000</td>\n",
       "      <td>0</td>\n",
       "      <td>0</td>\n",
       "      <td>0</td>\n",
       "      <td>0</td>\n",
       "      <td>0</td>\n",
       "      <td>0</td>\n",
       "      <td>0</td>\n",
       "      <td>0</td>\n",
       "      <td>1</td>\n",
       "      <td>...</td>\n",
       "      <td>0</td>\n",
       "      <td>0</td>\n",
       "      <td>0</td>\n",
       "      <td>0</td>\n",
       "      <td>0</td>\n",
       "      <td>0</td>\n",
       "      <td>0</td>\n",
       "      <td>0</td>\n",
       "      <td>0</td>\n",
       "      <td>0</td>\n",
       "    </tr>\n",
       "    <tr>\n",
       "      <th>1</th>\n",
       "      <td>202001010400</td>\n",
       "      <td>0</td>\n",
       "      <td>0</td>\n",
       "      <td>0</td>\n",
       "      <td>0</td>\n",
       "      <td>0</td>\n",
       "      <td>0</td>\n",
       "      <td>0</td>\n",
       "      <td>0</td>\n",
       "      <td>1</td>\n",
       "      <td>...</td>\n",
       "      <td>0</td>\n",
       "      <td>0</td>\n",
       "      <td>0</td>\n",
       "      <td>0</td>\n",
       "      <td>0</td>\n",
       "      <td>0</td>\n",
       "      <td>0</td>\n",
       "      <td>0</td>\n",
       "      <td>0</td>\n",
       "      <td>0</td>\n",
       "    </tr>\n",
       "    <tr>\n",
       "      <th>2</th>\n",
       "      <td>202001010800</td>\n",
       "      <td>0</td>\n",
       "      <td>0</td>\n",
       "      <td>0</td>\n",
       "      <td>0</td>\n",
       "      <td>0</td>\n",
       "      <td>0</td>\n",
       "      <td>0</td>\n",
       "      <td>0</td>\n",
       "      <td>1</td>\n",
       "      <td>...</td>\n",
       "      <td>0</td>\n",
       "      <td>0</td>\n",
       "      <td>0</td>\n",
       "      <td>0</td>\n",
       "      <td>0</td>\n",
       "      <td>0</td>\n",
       "      <td>0</td>\n",
       "      <td>0</td>\n",
       "      <td>0</td>\n",
       "      <td>0</td>\n",
       "    </tr>\n",
       "    <tr>\n",
       "      <th>3</th>\n",
       "      <td>202001011200</td>\n",
       "      <td>0</td>\n",
       "      <td>0</td>\n",
       "      <td>0</td>\n",
       "      <td>0</td>\n",
       "      <td>0</td>\n",
       "      <td>0</td>\n",
       "      <td>0</td>\n",
       "      <td>0</td>\n",
       "      <td>1</td>\n",
       "      <td>...</td>\n",
       "      <td>0</td>\n",
       "      <td>0</td>\n",
       "      <td>0</td>\n",
       "      <td>0</td>\n",
       "      <td>0</td>\n",
       "      <td>0</td>\n",
       "      <td>0</td>\n",
       "      <td>0</td>\n",
       "      <td>0</td>\n",
       "      <td>0</td>\n",
       "    </tr>\n",
       "    <tr>\n",
       "      <th>4</th>\n",
       "      <td>202001011600</td>\n",
       "      <td>0</td>\n",
       "      <td>0</td>\n",
       "      <td>0</td>\n",
       "      <td>0</td>\n",
       "      <td>0</td>\n",
       "      <td>0</td>\n",
       "      <td>0</td>\n",
       "      <td>0</td>\n",
       "      <td>1</td>\n",
       "      <td>...</td>\n",
       "      <td>0</td>\n",
       "      <td>0</td>\n",
       "      <td>0</td>\n",
       "      <td>0</td>\n",
       "      <td>0</td>\n",
       "      <td>0</td>\n",
       "      <td>0</td>\n",
       "      <td>0</td>\n",
       "      <td>0</td>\n",
       "      <td>0</td>\n",
       "    </tr>\n",
       "  </tbody>\n",
       "</table>\n",
       "<p>5 rows × 35 columns</p>\n",
       "</div>"
      ],
      "text/plain": [
       "   Time Periods  Agartala  Agra  Ahmedabad  Bengaluru  Bhilai  Bhopal  \\\n",
       "0  202001010000         0     0          0          0       0       0   \n",
       "1  202001010400         0     0          0          0       0       0   \n",
       "2  202001010800         0     0          0          0       0       0   \n",
       "3  202001011200         0     0          0          0       0       0   \n",
       "4  202001011600         0     0          0          0       0       0   \n",
       "\n",
       "   Chandigarh  Chennai  Delhi  ...  Moradabad  Mumbai  Muzaffarpur  Noida  \\\n",
       "0           0        0      1  ...          0       0            0      0   \n",
       "1           0        0      1  ...          0       0            0      0   \n",
       "2           0        0      1  ...          0       0            0      0   \n",
       "3           0        0      1  ...          0       0            0      0   \n",
       "4           0        0      1  ...          0       0            0      0   \n",
       "\n",
       "   Patna  Prayagraj  Raipur  Srinagar  Thiruvananthapuram  Varanasi  \n",
       "0      0          0       0         0                   0         0  \n",
       "1      0          0       0         0                   0         0  \n",
       "2      0          0       0         0                   0         0  \n",
       "3      0          0       0         0                   0         0  \n",
       "4      0          0       0         0                   0         0  \n",
       "\n",
       "[5 rows x 35 columns]"
      ]
     },
     "execution_count": 43,
     "metadata": {},
     "output_type": "execute_result"
    }
   ],
   "source": [
    "x1.head()"
   ]
  },
  {
   "cell_type": "code",
   "execution_count": 44,
   "id": "11ba0186",
   "metadata": {},
   "outputs": [],
   "source": [
    "x1.reset_index(drop=True, inplace=True)\n",
    "df_to_conact.reset_index(drop=True, inplace=True)"
   ]
  },
  {
   "cell_type": "code",
   "execution_count": 45,
   "id": "27fa4ae8",
   "metadata": {},
   "outputs": [],
   "source": [
    "x4=pd.merge(x1, df_to_conact, left_index=True, right_index=True)"
   ]
  },
  {
   "cell_type": "code",
   "execution_count": 46,
   "id": "a78cc5c2",
   "metadata": {},
   "outputs": [
    {
     "data": {
      "text/plain": [
       "(218044, 77)"
      ]
     },
     "execution_count": 46,
     "metadata": {},
     "output_type": "execute_result"
    }
   ],
   "source": [
    "x4.shape"
   ]
  },
  {
   "cell_type": "code",
   "execution_count": 47,
   "id": "01dbd86d",
   "metadata": {},
   "outputs": [
    {
     "name": "stdout",
     "output_type": "stream",
     "text": [
      "(218044, 77)\n",
      "(218044, 42)\n",
      "(218044, 35)\n"
     ]
    }
   ],
   "source": [
    "print(x4.shape)\n",
    "print(df_to_conact.shape)\n",
    "print(x1.shape)"
   ]
  },
  {
   "cell_type": "code",
   "execution_count": 48,
   "id": "80c02bb0",
   "metadata": {},
   "outputs": [],
   "source": [
    "x=df2.drop([\"PM2.5\"],axis=\"columns\")"
   ]
  },
  {
   "cell_type": "code",
   "execution_count": 49,
   "id": "6ad9ae2e",
   "metadata": {},
   "outputs": [],
   "source": [
    "y=df2[[\"PM2.5\"]]"
   ]
  },
  {
   "cell_type": "code",
   "execution_count": 50,
   "id": "2c04934f",
   "metadata": {},
   "outputs": [
    {
     "data": {
      "text/plain": [
       "16571344"
      ]
     },
     "execution_count": 50,
     "metadata": {},
     "output_type": "execute_result"
    }
   ],
   "source": [
    "x.size"
   ]
  },
  {
   "cell_type": "code",
   "execution_count": 51,
   "id": "3817d561",
   "metadata": {},
   "outputs": [
    {
     "name": "stdout",
     "output_type": "stream",
     "text": [
      "<class 'pandas.core.frame.DataFrame'>\n",
      "Int64Index: 218044 entries, 0 to 223583\n",
      "Data columns (total 1 columns):\n",
      " #   Column  Non-Null Count   Dtype  \n",
      "---  ------  --------------   -----  \n",
      " 0   PM2.5   218044 non-null  float64\n",
      "dtypes: float64(1)\n",
      "memory usage: 3.3 MB\n"
     ]
    }
   ],
   "source": [
    "y.info()"
   ]
  },
  {
   "cell_type": "code",
   "execution_count": 52,
   "id": "5ac983f3",
   "metadata": {},
   "outputs": [],
   "source": [
    "from sklearn.model_selection import train_test_split"
   ]
  },
  {
   "cell_type": "code",
   "execution_count": 53,
   "id": "3b8a5074",
   "metadata": {},
   "outputs": [],
   "source": [
    "x_train,x_test,y_train,y_test=train_test_split(x4,y,test_size=0.2)"
   ]
  },
  {
   "cell_type": "markdown",
   "id": "35f22184",
   "metadata": {},
   "source": [
    "## Trying Various Model for Predicting PM2.5"
   ]
  },
  {
   "cell_type": "code",
   "execution_count": 54,
   "id": "98c39b4f",
   "metadata": {},
   "outputs": [
    {
     "data": {
      "text/plain": [
       "LinearRegression()"
      ]
     },
     "execution_count": 54,
     "metadata": {},
     "output_type": "execute_result"
    }
   ],
   "source": [
    "from sklearn.linear_model import LinearRegression\n",
    "lr=LinearRegression()\n",
    "lr.fit(x_train,y_train)"
   ]
  },
  {
   "cell_type": "code",
   "execution_count": 55,
   "id": "ba88485a",
   "metadata": {},
   "outputs": [
    {
     "data": {
      "text/plain": [
       "0.45943432472558987"
      ]
     },
     "execution_count": 55,
     "metadata": {},
     "output_type": "execute_result"
    }
   ],
   "source": [
    "lr.score(x_test,y_test)"
   ]
  },
  {
   "cell_type": "code",
   "execution_count": 56,
   "id": "f821438f",
   "metadata": {},
   "outputs": [],
   "source": [
    "from sklearn.linear_model import LinearRegression, Ridge, Lasso, ElasticNet\n",
    "from sklearn.preprocessing import PolynomialFeatures\n",
    "from sklearn.svm import SVR\n",
    "from sklearn.tree import DecisionTreeRegressor\n",
    "from sklearn.ensemble import RandomForestRegressor, GradientBoostingRegressor\n",
    "# from xgboost import XGBRegressor\n",
    "# from lightgbm import LGBMRegressor\n",
    "# from catboost import CatBoostRegressor\n",
    "from sklearn.neural_network import MLPRegressor"
   ]
  },
  {
   "cell_type": "code",
   "execution_count": 73,
   "id": "dc3b8038",
   "metadata": {},
   "outputs": [
    {
     "ename": "AttributeError",
     "evalue": "'PolynomialFeatures' object has no attribute 'predict'",
     "output_type": "error",
     "traceback": [
      "\u001b[1;31m---------------------------------------------------------------------------\u001b[0m",
      "\u001b[1;31mAttributeError\u001b[0m                            Traceback (most recent call last)",
      "Input \u001b[1;32mIn [73]\u001b[0m, in \u001b[0;36m<cell line: 1>\u001b[1;34m()\u001b[0m\n\u001b[1;32m----> 1\u001b[0m test_pred_2\u001b[38;5;241m=\u001b[39m\u001b[43mpoly_reg\u001b[49m\u001b[38;5;241;43m.\u001b[39;49m\u001b[43mpredict\u001b[49m(x_test)\n\u001b[0;32m      2\u001b[0m r2 \u001b[38;5;241m=\u001b[39m metrics\u001b[38;5;241m.\u001b[39mr2_score(y_true \u001b[38;5;241m=\u001b[39m y_test, y_pred \u001b[38;5;241m=\u001b[39m test_pred_2)\n",
      "\u001b[1;31mAttributeError\u001b[0m: 'PolynomialFeatures' object has no attribute 'predict'"
     ]
    }
   ],
   "source": [
    "# test_pred_2=poly_reg.predict(x_test)\n",
    "# r2 = metrics.r2_score(y_true = y_test, y_pred = test_pred_2)\n",
    "# lr.score(x_test,y_test)"
   ]
  },
  {
   "cell_type": "code",
   "execution_count": null,
   "id": "50545dba",
   "metadata": {},
   "outputs": [],
   "source": [
    "ridge_reg = Ridge(alpha=0.5)\n",
    "ridge_reg.fit(x_train, y_train)"
   ]
  },
  {
   "cell_type": "code",
   "execution_count": null,
   "id": "96748149",
   "metadata": {},
   "outputs": [],
   "source": [
    "ridge_reg.score(x_test,y_test)"
   ]
  },
  {
   "cell_type": "code",
   "execution_count": 57,
   "id": "0d597790",
   "metadata": {},
   "outputs": [
    {
     "name": "stderr",
     "output_type": "stream",
     "text": [
      "C:\\Users\\rajat\\anaconda3\\lib\\site-packages\\sklearn\\linear_model\\_coordinate_descent.py:647: ConvergenceWarning: Objective did not converge. You might want to increase the number of iterations, check the scale of the features or consider increasing regularisation. Duality gap: 1.591e+08, tolerance: 5.645e+04\n",
      "  model = cd_fast.enet_coordinate_descent(\n"
     ]
    },
    {
     "data": {
      "text/plain": [
       "Lasso(alpha=0.1)"
      ]
     },
     "execution_count": 57,
     "metadata": {},
     "output_type": "execute_result"
    }
   ],
   "source": [
    "lasso_reg = Lasso(alpha=0.1)\n",
    "lasso_reg.fit(x_train, y_train)"
   ]
  },
  {
   "cell_type": "code",
   "execution_count": 58,
   "id": "845130dd",
   "metadata": {},
   "outputs": [
    {
     "data": {
      "text/plain": [
       "0.44589508900950003"
      ]
     },
     "execution_count": 58,
     "metadata": {},
     "output_type": "execute_result"
    }
   ],
   "source": [
    "lasso_reg.score(x_test,y_test)"
   ]
  },
  {
   "cell_type": "code",
   "execution_count": 77,
   "id": "341a6e71",
   "metadata": {},
   "outputs": [
    {
     "name": "stderr",
     "output_type": "stream",
     "text": [
      "C:\\Users\\rajat\\anaconda3\\lib\\site-packages\\sklearn\\linear_model\\_coordinate_descent.py:647: ConvergenceWarning: Objective did not converge. You might want to increase the number of iterations, check the scale of the features or consider increasing regularisation. Duality gap: 1.611e+08, tolerance: 5.631e+04\n",
      "  model = cd_fast.enet_coordinate_descent(\n"
     ]
    },
    {
     "data": {
      "text/plain": [
       "ElasticNet(alpha=0.1)"
      ]
     },
     "execution_count": 77,
     "metadata": {},
     "output_type": "execute_result"
    }
   ],
   "source": [
    "elastic_net_reg = ElasticNet(alpha=0.1, l1_ratio=0.5)\n",
    "elastic_net_reg.fit(x_train, y_train)"
   ]
  },
  {
   "cell_type": "code",
   "execution_count": 78,
   "id": "a4b07a3f",
   "metadata": {},
   "outputs": [
    {
     "data": {
      "text/plain": [
       "0.43091037829825407"
      ]
     },
     "execution_count": 78,
     "metadata": {},
     "output_type": "execute_result"
    }
   ],
   "source": [
    "elastic_net_reg.score(x_test,y_test)"
   ]
  },
  {
   "cell_type": "code",
   "execution_count": 79,
   "id": "71aa8ec8",
   "metadata": {},
   "outputs": [
    {
     "name": "stderr",
     "output_type": "stream",
     "text": [
      "C:\\Users\\rajat\\anaconda3\\lib\\site-packages\\sklearn\\utils\\validation.py:993: DataConversionWarning: A column-vector y was passed when a 1d array was expected. Please change the shape of y to (n_samples, ), for example using ravel().\n",
      "  y = column_or_1d(y, warn=True)\n"
     ]
    },
    {
     "data": {
      "text/plain": [
       "SVR(C=100)"
      ]
     },
     "execution_count": 79,
     "metadata": {},
     "output_type": "execute_result"
    }
   ],
   "source": [
    "svr_reg = SVR(kernel='rbf', C=100, epsilon=0.1)\n",
    "svr_reg.fit(x_train, y_train)"
   ]
  },
  {
   "cell_type": "code",
   "execution_count": 80,
   "id": "78f14174",
   "metadata": {},
   "outputs": [
    {
     "data": {
      "text/plain": [
       "-0.09724411966677216"
      ]
     },
     "execution_count": 80,
     "metadata": {},
     "output_type": "execute_result"
    }
   ],
   "source": [
    "svr_reg.score(x_test,y_test)"
   ]
  },
  {
   "cell_type": "code",
   "execution_count": 81,
   "id": "658f2111",
   "metadata": {},
   "outputs": [],
   "source": [
    "import pickle\n",
    "\n",
    "# Save the model to disk\n",
    "filename = 'svr1.sav'\n",
    "pickle.dump(svr_reg, open(filename, 'wb'))"
   ]
  },
  {
   "cell_type": "code",
   "execution_count": 59,
   "id": "5e0badaa",
   "metadata": {},
   "outputs": [
    {
     "data": {
      "text/plain": [
       "DecisionTreeRegressor(max_depth=30)"
      ]
     },
     "execution_count": 59,
     "metadata": {},
     "output_type": "execute_result"
    }
   ],
   "source": [
    "dt_reg = DecisionTreeRegressor(max_depth=30)\n",
    "dt_reg.fit(x_train, y_train)"
   ]
  },
  {
   "cell_type": "code",
   "execution_count": 60,
   "id": "dbe7ce3c",
   "metadata": {},
   "outputs": [
    {
     "data": {
      "text/plain": [
       "0.7503967348656048"
      ]
     },
     "execution_count": 60,
     "metadata": {},
     "output_type": "execute_result"
    }
   ],
   "source": [
    "dt_reg.score(x_test,y_test)"
   ]
  },
  {
   "cell_type": "code",
   "execution_count": 61,
   "id": "ba58b52b",
   "metadata": {},
   "outputs": [],
   "source": [
    "import pickle\n",
    "\n",
    "# Save the model to disk\n",
    "filename = 'dt_reg1.sav'\n",
    "pickle.dump(dt_reg, open(filename, 'wb'))"
   ]
  },
  {
   "cell_type": "code",
   "execution_count": 62,
   "id": "87917a14",
   "metadata": {},
   "outputs": [
    {
     "name": "stderr",
     "output_type": "stream",
     "text": [
      "C:\\Users\\rajat\\AppData\\Local\\Temp\\ipykernel_15496\\2488433694.py:2: DataConversionWarning: A column-vector y was passed when a 1d array was expected. Please change the shape of y to (n_samples,), for example using ravel().\n",
      "  rf_reg.fit(x_train, y_train)\n"
     ]
    },
    {
     "data": {
      "text/plain": [
       "RandomForestRegressor(max_depth=20)"
      ]
     },
     "execution_count": 62,
     "metadata": {},
     "output_type": "execute_result"
    }
   ],
   "source": [
    "rf_reg = RandomForestRegressor(n_estimators=100, max_depth=20)\n",
    "rf_reg.fit(x_train, y_train)"
   ]
  },
  {
   "cell_type": "code",
   "execution_count": 63,
   "id": "1e3cf246",
   "metadata": {},
   "outputs": [
    {
     "data": {
      "text/plain": [
       "0.7548526620196743"
      ]
     },
     "execution_count": 63,
     "metadata": {},
     "output_type": "execute_result"
    }
   ],
   "source": [
    "rf_reg.score(x_test,y_test)"
   ]
  },
  {
   "cell_type": "code",
   "execution_count": 64,
   "id": "915d6204",
   "metadata": {},
   "outputs": [],
   "source": [
    "import pickle\n",
    "\n",
    "# Save the model to disk\n",
    "filename = 'rf_reg1.sav'\n",
    "pickle.dump(rf_reg, open(filename, 'wb'))"
   ]
  },
  {
   "cell_type": "code",
   "execution_count": 94,
   "id": "08f64edd",
   "metadata": {},
   "outputs": [
    {
     "name": "stderr",
     "output_type": "stream",
     "text": [
      "C:\\Users\\rajat\\anaconda3\\lib\\site-packages\\sklearn\\ensemble\\_gb.py:494: DataConversionWarning: A column-vector y was passed when a 1d array was expected. Please change the shape of y to (n_samples, ), for example using ravel().\n",
      "  y = column_or_1d(y, warn=True)\n"
     ]
    },
    {
     "data": {
      "text/plain": [
       "GradientBoostingRegressor(max_depth=5)"
      ]
     },
     "execution_count": 94,
     "metadata": {},
     "output_type": "execute_result"
    }
   ],
   "source": [
    "gb_reg = GradientBoostingRegressor(n_estimators=100, max_depth=5, learning_rate=0.1)\n",
    "gb_reg.fit(x_train, y_train)"
   ]
  },
  {
   "cell_type": "code",
   "execution_count": 95,
   "id": "70e78b7f",
   "metadata": {},
   "outputs": [
    {
     "data": {
      "text/plain": [
       "0.6708158972195186"
      ]
     },
     "execution_count": 95,
     "metadata": {},
     "output_type": "execute_result"
    }
   ],
   "source": [
    "gb_reg.score(x_test,y_test)"
   ]
  },
  {
   "cell_type": "code",
   "execution_count": 98,
   "id": "fa9b91b0",
   "metadata": {},
   "outputs": [],
   "source": [
    "import pickle\n",
    "\n",
    "# Save the model to disk\n",
    "filename = 'gb_reg1.sav'\n",
    "pickle.dump(gb_reg, open(filename, 'wb'))"
   ]
  },
  {
   "cell_type": "markdown",
   "id": "11804bb8",
   "metadata": {},
   "source": [
    "# After Trying Various Models Decision Tree Gives Best Result as per Given Dataset -> 76% Approx"
   ]
  },
  {
   "cell_type": "code",
   "execution_count": null,
   "id": "5ec2d7a5",
   "metadata": {},
   "outputs": [],
   "source": []
  }
 ],
 "metadata": {
  "kernelspec": {
   "display_name": "Python 3 (ipykernel)",
   "language": "python",
   "name": "python3"
  },
  "language_info": {
   "codemirror_mode": {
    "name": "ipython",
    "version": 3
   },
   "file_extension": ".py",
   "mimetype": "text/x-python",
   "name": "python",
   "nbconvert_exporter": "python",
   "pygments_lexer": "ipython3",
   "version": "3.9.12"
  }
 },
 "nbformat": 4,
 "nbformat_minor": 5
}
